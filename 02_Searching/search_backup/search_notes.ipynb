{
 "cells": [
  {
   "cell_type": "markdown",
   "id": "4f7f84fe",
   "metadata": {},
   "source": [
    "# Search\n",
    "- Linear search\n",
    "    - Ordered\n",
    "    - Unordered\n",
    "- Binary search\n",
    "- Hash Table search\n",
    "\n",
    "## Remarks\n",
    "   - Sorted Lists are assumed to be in **Ascending Order**. \n",
    "   - Only the **Big O Notation** is tested for Time Complexity."
   ]
  },
  {
   "cell_type": "markdown",
   "id": "dbe1c2c9",
   "metadata": {},
   "source": [
    "---\n"
   ]
  },
  {
   "cell_type": "markdown",
   "id": "23f14ed7",
   "metadata": {},
   "source": [
    "## Linear Search\n",
    "\n",
    "- **Unordered linear search** loops through the entire list until the target item is found.\n",
    "\n",
    "- **Ordered linear search** follows the same process but stops when the part of the list larger than the target item is reached.\n",
    "\n",
    "### Time Complexity\n",
    "\n",
    "- Worst-case: **O(n)**\n",
    "- Average-case: **θ(n)**\n",
    "- Best-case: **Ω(1)**"
   ]
  },
  {
   "cell_type": "markdown",
   "id": "fdb2eb0f",
   "metadata": {},
   "source": [
    "---"
   ]
  },
  {
   "cell_type": "markdown",
   "id": "463c0ab9",
   "metadata": {},
   "source": [
    "## Binary Search\n",
    "\n",
    "- **Searches a pre-sorted list** by comparing the target item with the midpoint.\n",
    "    - If larger, the search continues in the larger half.\n",
    "    - If smaller, the search continues in the smaller half.\n",
    "\n",
    "\n",
    "- **This approach halves the search space size** with each iteration.\n",
    "\n",
    "\n",
    "- The below approaches uses 2 pointers `low_at` and `high_at` to regulate the search space.\n",
    "- **Iterative approach:** Halves search space with each while loop iteration.\n",
    "- **Recursive approach:** Halves search space with each function call on itself. \n",
    "\n",
    "### Time Complexity\n",
    "\n",
    "- Worst-case: **O(log(n))**\n",
    "- Average-case: **θ(log(n))**\n",
    "- Best-case: **Ω(1)**\n"
   ]
  },
  {
   "cell_type": "markdown",
   "id": "8e793eda",
   "metadata": {},
   "source": [
    "---"
   ]
  },
  {
   "cell_type": "markdown",
   "id": "d62bd2a2",
   "metadata": {
    "cell_type": "markdown",
    "metadata": {
     "css": [
      "my-paragraph",
      "my-list-item"
     ]
    }
   },
   "source": [
    "## Hash Table Search\n",
    "\n",
    "A hash table is a data structure that provides efficient lookup, insertion, and deletion operations. It is implemented as a class with the following key components:\n",
    "\n",
    "- **Initialization** --- The hash table is initialized with a specified size and maintains attributes for tracking its state.\n",
    "\n",
    "- **Hashing** --- Keys are converted to indices using the modulo operation (`key % size`).\n",
    "\n",
    "- **Collision Resolution** --- Open addressing with linear probing is used to resolve collisions.\n",
    "\n",
    "- **Load Factor** --- The ratio of used slots to the total size measures efficiency.\n",
    "\n",
    "- **Insertion and Retrieval** --- The hash table supports `put` and `get` operations.\n",
    "\n",
    "### Time Complexity\n",
    "\n",
    "- Worst-case: **O(n)**\n",
    "- Average-case: **θ(1)**\n",
    "- Best-case: **Ω(1)**"
   ]
  }
 ],
 "metadata": {
  "kernelspec": {
   "display_name": "Python 3 (ipykernel)",
   "language": "python",
   "name": "python3"
  },
  "language_info": {
   "codemirror_mode": {
    "name": "ipython",
    "version": 3
   },
   "file_extension": ".py",
   "mimetype": "text/x-python",
   "name": "python",
   "nbconvert_exporter": "python",
   "pygments_lexer": "ipython3",
   "version": "3.11.3"
  }
 },
 "nbformat": 4,
 "nbformat_minor": 5
}
