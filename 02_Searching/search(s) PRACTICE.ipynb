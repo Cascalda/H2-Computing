{
 "cells": [
  {
   "cell_type": "markdown",
   "id": "4f7f84fe",
   "metadata": {},
   "source": [
    "# Search\n",
    "- ### Linear\n",
    "    - #### Ordered\n",
    "    - #### Unordered\n",
    "- ### Binary\n",
    "- ### Hash Table\n",
    "\n",
    "# Remarks\n",
    "   - ### Sorted Lists are assumed to be in ascending order \n",
    "   - ### Only Big O Notation is tested, O(...)"
   ]
  },
  {
   "cell_type": "markdown",
   "id": "dbe1c2c9",
   "metadata": {},
   "source": [
    "---\n"
   ]
  },
  {
   "cell_type": "markdown",
   "id": "23f14ed7",
   "metadata": {},
   "source": [
    "## Linear Search\n",
    "\n",
    "- **Unordered linear search** loops through the entire list until the target item is found.\n",
    "\n",
    "- **Ordered linear search** follows the same process but stops when the part of the list larger than the target item is reached.\n",
    "\n",
    "### Time Complexity\n",
    "\n",
    "- Worst-case: O(n)\n",
    "- Average-case: θ(n)\n",
    "- Best-case: Ω(1)"
   ]
  },
  {
   "cell_type": "code",
   "execution_count": 2,
   "id": "fa5d04d5",
   "metadata": {
    "scrolled": false
   },
   "outputs": [
    {
     "name": "stdout",
     "output_type": "stream",
     "text": [
      "item: 69\n",
      "lst: [17, 90, 21, 97, 65, 48, 60, 99, 42, 23, 20, 20, 75, 69, 89, 50, 60, 89, 94, 43]\n",
      "sorted: [17, 20, 20, 21, 23, 42, 43, 48, 50, 60, 60, 65, 69, 75, 89, 89, 90, 94, 97, 99]\n",
      "\n",
      ">>> unordered_linear_search: None | Expected: [13] | False\n",
      ">>> ordered_linear_search: None | Expected: [12] | False\n"
     ]
    }
   ],
   "source": [
    "## Linear Search\n",
    "\n",
    "def unordered_linear_search(nums, item):\n",
    "    pass\n",
    "\n",
    "def ordered_linear_search(nums, item):\n",
    "    pass\n",
    "\n",
    "## Test\n",
    "from search_backup.search_tests import linear_search_Test\n",
    "searches = {\n",
    "    \"unordered_linear_search\": unordered_linear_search, \n",
    "    \"ordered_linear_search\": ordered_linear_search,\n",
    "}; linear_search_Test(searches)"
   ]
  },
  {
   "cell_type": "markdown",
   "id": "fdb2eb0f",
   "metadata": {},
   "source": [
    "---"
   ]
  },
  {
   "cell_type": "markdown",
   "id": "463c0ab9",
   "metadata": {},
   "source": [
    "## Binary Search\n",
    "\n",
    "- **Searches a pre-sorted list** by comparing the target item with the midpoint.\n",
    "    - If larger, the search continues in the larger half.\n",
    "    - If smaller, the search continues in the smaller half.\n",
    "\n",
    "\n",
    "- **This approach halves the search space size** with each iteration.\n",
    "\n",
    "\n",
    "- The below approaches uses 2 pointers `low_at` and `high_at` to regulate the search space.\n",
    "- **Iterative approach:** Halves search space with each while loop iteration.\n",
    "- **Recursive approach:** Halves search space with each function call on itself. \n",
    "\n",
    "### Time Complexity\n",
    "\n",
    "- Worst-case: O(log(n))\n",
    "- Average-case: θ(log(n))\n",
    "- Best-case: Ω(1)\n"
   ]
  },
  {
   "cell_type": "code",
   "execution_count": 3,
   "id": "92d552fc",
   "metadata": {},
   "outputs": [
    {
     "name": "stdout",
     "output_type": "stream",
     "text": [
      "item: 99\n",
      "sorted: [15, 20, 23, 23, 24, 26, 43, 59, 63, 64, 71, 75, 77, 77, 82, 82, 86, 86, 99, 99]\n",
      "\n",
      ">>> binary_search_iterative: None | Expected: [18, 19] | False\n",
      ">>> binary_search_recursive: None | Expected: [18, 19] | False\n"
     ]
    }
   ],
   "source": [
    "## Binary Search\n",
    "\n",
    "# Iterative\n",
    "def binary_search_iterative(nums, item, low_at=0, high_at=None):\n",
    "    pass\n",
    "        \n",
    "\n",
    "# Recursive\n",
    "def binary_search_recursive(nums, item, low_at=0, high_at=None):\n",
    "    pass\n",
    "    \n",
    "## Test\n",
    "from search_backup.search_tests import binary_search_Test\n",
    "searches = {\n",
    "    \"binary_search_iterative\": binary_search_iterative,\n",
    "    \"binary_search_recursive\": binary_search_recursive,\n",
    "}; binary_search_Test(searches)"
   ]
  },
  {
   "cell_type": "markdown",
   "id": "8e793eda",
   "metadata": {},
   "source": [
    "---"
   ]
  },
  {
   "cell_type": "markdown",
   "id": "d62bd2a2",
   "metadata": {
    "cell_type": "markdown",
    "metadata": {
     "css": [
      "my-paragraph",
      "my-list-item"
     ]
    }
   },
   "source": [
    "## Hash Table Search\n",
    "\n",
    "A hash table is a data structure that provides efficient lookup, insertion, and deletion operations. It is implemented as a class with the following key components:\n",
    "\n",
    "- **Initialization** --- The hash table is initialized with a specified size and maintains attributes for tracking its state.\n",
    "\n",
    "- **Hashing** --- Keys are converted to indices using the modulo operation (`key % size`).\n",
    "\n",
    "- **Collision Resolution** --- Open addressing with linear probing is used to resolve collisions.\n",
    "\n",
    "- **Load Factor** --- The ratio of used slots to the total size measures efficiency.\n",
    "\n",
    "- **Insertion and Retrieval** --- The hash table supports `put` and `get` operations.\n",
    "\n",
    "### Time Complexity\n",
    "\n",
    "- Worst-case: O(n)\n",
    "- Average-case: θ(1)\n",
    "- Best-case: Ω(1)"
   ]
  },
  {
   "cell_type": "code",
   "execution_count": 6,
   "id": "23efe34b",
   "metadata": {
    "scrolled": true
   },
   "outputs": [
    {
     "name": "stdout",
     "output_type": "stream",
     "text": [
      ">>> HashTable:\n",
      "Keys to enter: [63, 26, 29, 84, 64, 82, 21, 16, 40]\n",
      "values to enter: ['I', '8', 'b', 'f', '3', 'z', 'U', 'Z', '6']\n",
      "Key-value pair: [(63, 'I'), (26, '8'), (29, 'b'), (84, 'f'), (64, '3'), (82, 'z'), (21, 'U'), (16, 'Z'), (40, '6')]\n",
      "\n"
     ]
    },
    {
     "ename": "TypeError",
     "evalue": "HashTable() takes no arguments",
     "output_type": "error",
     "traceback": [
      "\u001b[1;31m---------------------------------------------------------------------------\u001b[0m",
      "\u001b[1;31mTypeError\u001b[0m                                 Traceback (most recent call last)",
      "Cell \u001b[1;32mIn[6], line 7\u001b[0m\n\u001b[0;32m      5\u001b[0m \u001b[38;5;28;01mfrom\u001b[39;00m \u001b[38;5;21;01msearch_backup\u001b[39;00m\u001b[38;5;21;01m.\u001b[39;00m\u001b[38;5;21;01msearch_tests\u001b[39;00m \u001b[38;5;28;01mimport\u001b[39;00m hash_table_Test\n\u001b[0;32m      6\u001b[0m HT \u001b[38;5;241m=\u001b[39m HashTable\n\u001b[1;32m----> 7\u001b[0m \u001b[43mhash_table_Test\u001b[49m\u001b[43m(\u001b[49m\u001b[43mHT\u001b[49m\u001b[43m)\u001b[49m\n",
      "File \u001b[1;32m~\\OneDrive\\SHARED\\Documents\\(1a) Studies\\Computing\\3. Practices\\_1_ Algorithms_and_Data_Structures\\2. Fundamental Algorithms\\Searching\\search_backup\\search_tests.py:67\u001b[0m, in \u001b[0;36mhash_table_Test\u001b[1;34m(HT)\u001b[0m\n\u001b[0;32m     61\u001b[0m \u001b[38;5;28mprint\u001b[39m(\u001b[38;5;124mf\u001b[39m\u001b[38;5;124m\"\u001b[39m\u001b[38;5;124mKeys to enter: \u001b[39m\u001b[38;5;132;01m{\u001b[39;00mkeys\u001b[38;5;132;01m}\u001b[39;00m\u001b[38;5;124m\"\u001b[39m,\n\u001b[0;32m     62\u001b[0m       \u001b[38;5;124mf\u001b[39m\u001b[38;5;124m\"\u001b[39m\u001b[38;5;124mvalues to enter: \u001b[39m\u001b[38;5;132;01m{\u001b[39;00mvalues\u001b[38;5;132;01m}\u001b[39;00m\u001b[38;5;124m\"\u001b[39m,\n\u001b[0;32m     63\u001b[0m       \u001b[38;5;124mf\u001b[39m\u001b[38;5;124m\"\u001b[39m\u001b[38;5;124mKey-value pair: \u001b[39m\u001b[38;5;132;01m{\u001b[39;00m\u001b[38;5;28mlist\u001b[39m(\u001b[38;5;28mzip\u001b[39m(keys,\u001b[38;5;250m \u001b[39mvalues))\u001b[38;5;132;01m}\u001b[39;00m\u001b[38;5;124m\"\u001b[39m,   \u001b[38;5;66;03m# display one list with key-value pair\u001b[39;00m\n\u001b[0;32m     64\u001b[0m       sep \u001b[38;5;241m=\u001b[39m \u001b[38;5;124m\"\u001b[39m\u001b[38;5;130;01m\\n\u001b[39;00m\u001b[38;5;124m\"\u001b[39m, end \u001b[38;5;241m=\u001b[39m \u001b[38;5;124m\"\u001b[39m\u001b[38;5;130;01m\\n\u001b[39;00m\u001b[38;5;130;01m\\n\u001b[39;00m\u001b[38;5;124m\"\u001b[39m)\n\u001b[0;32m     66\u001b[0m \u001b[38;5;66;03m# Initiate Hash Table\u001b[39;00m\n\u001b[1;32m---> 67\u001b[0m H \u001b[38;5;241m=\u001b[39m \u001b[43mHT\u001b[49m\u001b[43m(\u001b[49m\u001b[38;5;28;43mlen\u001b[39;49m\u001b[43m(\u001b[49m\u001b[43mkeys\u001b[49m\u001b[43m)\u001b[49m\u001b[43m \u001b[49m\u001b[38;5;241;43m-\u001b[39;49m\u001b[43m \u001b[49m\u001b[38;5;241;43m2\u001b[39;49m\u001b[43m)\u001b[49m\n\u001b[0;32m     69\u001b[0m \u001b[38;5;66;03m# Put the key-value pair into Hash Table\u001b[39;00m\n\u001b[0;32m     70\u001b[0m \u001b[38;5;28mprint\u001b[39m(\u001b[38;5;124m\"\u001b[39m\u001b[38;5;124mPut:\u001b[39m\u001b[38;5;124m\"\u001b[39m)\n",
      "\u001b[1;31mTypeError\u001b[0m: HashTable() takes no arguments"
     ]
    }
   ],
   "source": [
    "class HashTable:\n",
    "    pass\n",
    "\n",
    "## Test\n",
    "from search_backup.search_tests import hash_table_Test\n",
    "HT = HashTable\n",
    "hash_table_Test(HT)"
   ]
  }
 ],
 "metadata": {
  "kernelspec": {
   "display_name": "Python 3 (ipykernel)",
   "language": "python",
   "name": "python3"
  },
  "language_info": {
   "codemirror_mode": {
    "name": "ipython",
    "version": 3
   },
   "file_extension": ".py",
   "mimetype": "text/x-python",
   "name": "python",
   "nbconvert_exporter": "python",
   "pygments_lexer": "ipython3",
   "version": "3.11.3"
  }
 },
 "nbformat": 4,
 "nbformat_minor": 5
}
