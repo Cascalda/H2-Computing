{
 "cells": [
  {
   "cell_type": "markdown",
   "id": "4f7f84fe",
   "metadata": {},
   "source": [
    "# Search\n",
    "- ### Linear\n",
    "    - #### Ordered\n",
    "    - #### Unordered\n",
    "- ### Binary\n",
    "- ### Hash Table\n",
    "\n",
    "# Remarks\n",
    "   - ### Sorted Lists are assumed to be in ascending order \n",
    "   - ### Only Big O Notation is tested, O(...)"
   ]
  },
  {
   "cell_type": "markdown",
   "id": "dbe1c2c9",
   "metadata": {},
   "source": [
    "---\n"
   ]
  },
  {
   "cell_type": "markdown",
   "id": "23f14ed7",
   "metadata": {},
   "source": [
    "## Linear Search\n",
    "\n",
    "- **Unordered linear search** loops through the entire list until the target item is found.\n",
    "\n",
    "- **Ordered linear search** follows the same process but stops when the part of the list larger than the target item is reached.\n",
    "\n",
    "### Time Complexity\n",
    "\n",
    "- Worst-case: **O(n)**\n",
    "- Average-case: **θ(n)**\n",
    "- Best-case: **Ω(1)**"
   ]
  },
  {
   "cell_type": "code",
   "execution_count": 112,
   "id": "fa5d04d5",
   "metadata": {
    "scrolled": false
   },
   "outputs": [
    {
     "name": "stdout",
     "output_type": "stream",
     "text": [
      "item: 56\n",
      "lst: [53, 99, 36, 84, 62, 13, 23, 29, 56, 91, 55, 43, 80, 16, 49, 94, 32, 65, 19, 94]\n",
      "sorted: [13, 16, 19, 23, 29, 32, 36, 43, 49, 53, 55, 56, 62, 65, 80, 84, 91, 94, 94, 99]\n",
      "\n",
      ">>> unordered_linear_search: [8] | Expected: [8] | True\n",
      ">>> ordered_linear_search: [11] | Expected: [11] | True\n"
     ]
    }
   ],
   "source": [
    "## Linear Search\n",
    "\n",
    "def unordered_linear_search(nums, item):\n",
    "    found = [] \n",
    "    \n",
    "    # Search for item until found\n",
    "    for index, num in enumerate(nums):\n",
    "        if num == item:\n",
    "            found.append(index)\n",
    "            \n",
    "    return found\n",
    "\n",
    "def ordered_linear_search(nums, item):\n",
    "    found = []\n",
    "    \n",
    "    # Search for item until found or larger than item\n",
    "    for index, num in enumerate(nums): \n",
    "        if num > item:\n",
    "            break\n",
    "        elif num == item:\n",
    "            found.append(index)\n",
    "            \n",
    "    return found\n",
    "\n",
    "## Test\n",
    "from search_backup.search_tests import linear_search_Test\n",
    "searches = {\n",
    "    \"unordered_linear_search\": unordered_linear_search, \n",
    "    \"ordered_linear_search\": ordered_linear_search,\n",
    "}; linear_search_Test(searches)"
   ]
  },
  {
   "cell_type": "markdown",
   "id": "fdb2eb0f",
   "metadata": {},
   "source": [
    "---"
   ]
  },
  {
   "cell_type": "markdown",
   "id": "463c0ab9",
   "metadata": {},
   "source": [
    "## Binary Search\n",
    "\n",
    "- **Searches a pre-sorted list** by comparing the target item with the midpoint.\n",
    "    - If larger, the search continues in the larger half.\n",
    "    - If smaller, the search continues in the smaller half.\n",
    "\n",
    "\n",
    "- **This approach halves the search space size** with each iteration.\n",
    "\n",
    "\n",
    "- The below approaches uses 2 pointers `low_at` and `high_at` to regulate the search space.\n",
    "- **Iterative approach:** Halves search space with each while loop iteration.\n",
    "- **Recursive approach:** Halves search space with each function call on itself. \n",
    "\n",
    "### Time Complexity\n",
    "\n",
    "- Worst-case: **O(log(n))**\n",
    "- Average-case: **θ(log(n))**\n",
    "- Best-case: **Ω(1)**\n"
   ]
  },
  {
   "cell_type": "code",
   "execution_count": 98,
   "id": "92d552fc",
   "metadata": {},
   "outputs": [
    {
     "name": "stdout",
     "output_type": "stream",
     "text": [
      "item: 23\n",
      "sorted: [16, 23, 24, 25, 30, 34, 41, 41, 44, 55, 72, 72, 76, 80, 82, 83, 90, 92, 94, 95]\n",
      "\n",
      ">>> binary_search_iterative: 1 | Expected: [1] | True\n",
      ">>> binary_search_recursive: 1 | Expected: [1] | True\n"
     ]
    }
   ],
   "source": [
    "## Binary Search\n",
    "\n",
    "# Iterative\n",
    "def binary_search_iterative(nums, item, low_at=0, high_at=None):\n",
    "    if high_at is None:\n",
    "        high_at = len(nums) - 1\n",
    "        \n",
    "    # Search the whole list\n",
    "    while low_at <= high_at:\n",
    "        mid_at = (low_at + high_at) // 2\n",
    "        mid_num = nums[mid_at]\n",
    "        \n",
    "        # Check the item with mid_num\n",
    "        if item == mid_num:\n",
    "            return mid_at\n",
    "        elif item < mid_num:\n",
    "            high_at = mid_at - 1\n",
    "        else:\n",
    "            low_at = mid_at + 1\n",
    "    \n",
    "    return -1\n",
    "        \n",
    "\n",
    "# Recursive\n",
    "def binary_search_recursive(nums, item, low_at=0, high_at=None):\n",
    "    if high_at is None:\n",
    "        high_at = len(nums) - 1\n",
    "        \n",
    "    # Search the whole list\n",
    "    if low_at <= high_at:\n",
    "        mid_at = (low_at + high_at) // 2\n",
    "        mid_num = nums[mid_at]\n",
    "        \n",
    "        # Check the item with mid_num\n",
    "        if item == mid_num:\n",
    "            return mid_at\n",
    "        elif item < mid_num:\n",
    "            high_at = mid_at - 1\n",
    "        else:\n",
    "            low_at = mid_at + 1\n",
    "        \n",
    "\n",
    "        return binary_search_recursive(nums, item, low_at, high_at)\n",
    "    \n",
    "    return -1\n",
    "    \n",
    "## Test\n",
    "from search_backup.search_tests import binary_search_Test\n",
    "searches = {\n",
    "    \"binary_search_iterative\": binary_search_iterative,\n",
    "    \"binary_search_recursive\": binary_search_recursive,\n",
    "}; binary_search_Test(searches)"
   ]
  },
  {
   "cell_type": "markdown",
   "id": "8e793eda",
   "metadata": {},
   "source": [
    "---"
   ]
  },
  {
   "cell_type": "markdown",
   "id": "d62bd2a2",
   "metadata": {
    "cell_type": "markdown",
    "metadata": {
     "css": [
      "my-paragraph",
      "my-list-item"
     ]
    }
   },
   "source": [
    "## Hash Table Search\n",
    "\n",
    "A hash table is a data structure that provides efficient lookup, insertion, and deletion operations. It is implemented as a class with the following key components:\n",
    "\n",
    "- **Initialization** --- The hash table is initialized with a specified size and maintains attributes for tracking its state.\n",
    "\n",
    "- **Hashing** --- Keys are converted to indices using the modulo operation (`key % size`).\n",
    "\n",
    "- **Collision Resolution** --- Open addressing with linear probing is used to resolve collisions.\n",
    "\n",
    "- **Load Factor** --- The ratio of used slots to the total size measures efficiency.\n",
    "\n",
    "- **Insertion and Retrieval** --- The hash table supports `put` and `get` operations.\n",
    "\n",
    "### Time Complexity\n",
    "\n",
    "- Worst-case: **O(n)**\n",
    "- Average-case: **θ(1)**\n",
    "- Best-case: **Ω(1)**"
   ]
  },
  {
   "cell_type": "code",
   "execution_count": 6,
   "id": "23efe34b",
   "metadata": {
    "scrolled": true
   },
   "outputs": [
    {
     "name": "stdout",
     "output_type": "stream",
     "text": [
      ">>> HashTable:\n",
      "Keys to enter: [29, 22, 57, 35, 66, 41, 43, 62, 74, 72, 77, 66]\n",
      "values to enter: ['2', '5', 'c', 'y', 'w', 'n', 'p', 'x', 'Y', 'F', 'u', 's']\n",
      "Key-value pair: [(29, '2'), (22, '5'), (57, 'c'), (35, 'y'), (66, 'w'), (41, 'n'), (43, 'p'), (62, 'x'), (74, 'Y'), (72, 'F'), (77, 'u'), (66, 's')]\n",
      "\n",
      "Put:\n",
      "Key: 29 | Status: Entered | Load factor: 0.1\n",
      "Key: 22 | Status: Entered | Load factor: 0.2\n",
      "Key: 57 | Status: Entered | Load factor: 0.3\n",
      "Key: 35 | Status: Entered | Load factor: 0.4\n",
      "Key: 66 | Status: Entered | Load factor: 0.5\n",
      "Key: 41 | Status: Entered | Load factor: 0.6\n",
      "Key: 43 | Status: Entered | Load factor: 0.7\n",
      "Key: 62 | Status: Entered | Load factor: 0.8\n",
      "Key: 74 | Status: Entered | Load factor: 0.9\n",
      "Key: 72 | Status: Entered | Load factor: 1.0\n",
      "Key: 77 | Status: Full | Load factor: 1.0\n",
      "Key: 66 | Status: Full | Load factor: 1.0\n",
      "\n",
      "Keys entered: [72, 41, 22, 43, 62, 35, 66, 57, 74, 29]\n",
      "values entered: ['F', 'n', '5', 'p', 'x', 'y', 'w', 'c', 'Y', '2']\n",
      "\n",
      "Get:\n",
      "Key: 29 | (2)\n",
      "Key: 22 | (5)\n",
      "Key: 57 | (c)\n",
      "Key: 35 | (y)\n",
      "Key: 66 | (w)\n",
      "Key: 41 | (n)\n",
      "Key: 43 | (p)\n",
      "Key: 62 | (x)\n",
      "Key: 74 | (Y)\n",
      "Key: 72 | (F)\n",
      "Key: 77 | (Not Found)\n",
      "Key: 66 | (w)\n"
     ]
    }
   ],
   "source": [
    "class HashTable:\n",
    "    def __init__(self, max_size):\n",
    "        self._max_size = max_size\n",
    "        self._size = 0\n",
    "        self._keys = [None]*max_size\n",
    "        self._values = [None]*max_size\n",
    "        \n",
    "    def hash_function(self, key):\n",
    "        return (key % self._max_size)\n",
    "    \n",
    "    def rehash(self, old_hash):\n",
    "        return self.hash_function(old_hash + 1)\n",
    "        \n",
    "    def load_factor(self):\n",
    "        return self._size / self._max_size\n",
    "    \n",
    "    def full(self):\n",
    "        return self.load_factor() == 1\n",
    "    \n",
    "    def empty(self):\n",
    "        return self.load_factor() == 0\n",
    "    \n",
    "    def put(self, key, value):\n",
    "        if self.full():\n",
    "            return \"Full\"\n",
    "        \n",
    "        # Get hash_value\n",
    "        hash_value = self.hash_function(key)\n",
    "        \n",
    "        # Resolve collisions\n",
    "        while self._keys[hash_value] is not None:\n",
    "            # Do not update if key already exists, make a separate function for that if needed\n",
    "            if self._keys[hash_value] == key:\n",
    "                return \"Exists\"\n",
    "            \n",
    "            # Rehash otherwise\n",
    "            hash_value = self.rehash(hash_value)\n",
    "        \n",
    "        # Finally, can add the key and value\n",
    "        self._keys[hash_value] = key\n",
    "        self._values[hash_value] = value\n",
    "        self._size += 1\n",
    "        return \"Entered\"\n",
    "    \n",
    "    def get(self, key):\n",
    "        if self.empty():\n",
    "            return \"Empty\"\n",
    "        \n",
    "        # Get hash_value\n",
    "        hash_value = self.hash_function(key)\n",
    "        \n",
    "        # Loop through the whole list to find it\n",
    "        for _ in range(self._max_size):\n",
    "            # Not Found\n",
    "            if self._keys[hash_value] != key:\n",
    "                hash_value = self.rehash(hash_value)\n",
    "            # Found\n",
    "            else:\n",
    "                return self._values[hash_value]\n",
    "        return \"Not Found\"\n",
    "\n",
    "## Test\n",
    "from search_backup.search_tests import hash_table_Test\n",
    "HT = HashTable\n",
    "hash_table_Test(HT)"
   ]
  }
 ],
 "metadata": {
  "kernelspec": {
   "display_name": "Python 3 (ipykernel)",
   "language": "python",
   "name": "python3"
  },
  "language_info": {
   "codemirror_mode": {
    "name": "ipython",
    "version": 3
   },
   "file_extension": ".py",
   "mimetype": "text/x-python",
   "name": "python",
   "nbconvert_exporter": "python",
   "pygments_lexer": "ipython3",
   "version": "3.11.3"
  }
 },
 "nbformat": 4,
 "nbformat_minor": 5
}
