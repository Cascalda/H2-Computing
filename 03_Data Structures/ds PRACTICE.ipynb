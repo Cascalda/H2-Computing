{
 "cells": [
  {
   "cell_type": "markdown",
   "id": "385232ec",
   "metadata": {},
   "source": [
    "# Data Structures\n",
    "\n",
    "- Linked List (Linear)\n",
    "- Stack\n",
    "- Queue (Linear, Circular)\n",
    "- Binary Search Tree (Normal, Freespace)\n"
   ]
  },
  {
   "cell_type": "markdown",
   "id": "2bfb6ce0",
   "metadata": {},
   "source": [
    "---"
   ]
  },
  {
   "cell_type": "markdown",
   "id": "47580729",
   "metadata": {},
   "source": [
    "## Linked List\n",
    "A linked list is a linear data structure composed of a series of connected nodes. In a singly-linked list, each node contains data and a reference (or link) to the next node in the list. The first node is called the head, and the last node's reference is set to `None`.\n",
    "\n",
    "### Main Methods\n",
    "- **insert / delete**: The `insert` operation inserts a new node at the end of the list, while `delete` deletes a node.\n",
    "- **sort_it**: Sorts the linked list based on the values stored in the nodes.\n",
    "- **find**: Searches for a particular value or node within the linked list.\n",
    "\n",
    "### Side Methods\n",
    "- **empty**: Checks whether the linked list is empty by verifying if the head node is `None`.\n",
    "- **size**: Returns the number of nodes in the linked list.\n",
    "- **display**: Displays the contents of the linked list by traversing through each node."
   ]
  },
  {
   "cell_type": "code",
   "execution_count": 1,
   "id": "a53ca6d1",
   "metadata": {
    "scrolled": false
   },
   "outputs": [
    {
     "name": "stdout",
     "output_type": "stream",
     "text": [
      "test: [72, 87, 86, 73, 53, 20, 52, 36, 46, 78, 84, 34, 64, 54, 23, 38, 51, 56, 67, 68]\n",
      "notinlst: [72, 87, 86, 73, 53, 20]\n",
      "inlst: [52, 36, 46, 78, 84, 34, 64, 54, 23, 38, 51]\n",
      "after_empty: [56, 67, 68]\n",
      "\n",
      ">>> LLL:\n"
     ]
    },
    {
     "ename": "AttributeError",
     "evalue": "'LinearLinkedList' object has no attribute 'insert'",
     "output_type": "error",
     "traceback": [
      "\u001b[1;31m---------------------------------------------------------------------------\u001b[0m",
      "\u001b[1;31mAttributeError\u001b[0m                            Traceback (most recent call last)",
      "Cell \u001b[1;32mIn[1], line 10\u001b[0m\n\u001b[0;32m      8\u001b[0m \u001b[38;5;66;03m# Test\u001b[39;00m\n\u001b[0;32m      9\u001b[0m \u001b[38;5;28;01mfrom\u001b[39;00m \u001b[38;5;21;01mds_backup\u001b[39;00m\u001b[38;5;21;01m.\u001b[39;00m\u001b[38;5;21;01mds_tests\u001b[39;00m \u001b[38;5;28;01mimport\u001b[39;00m LLL_Test\n\u001b[1;32m---> 10\u001b[0m \u001b[43mLLL_Test\u001b[49m\u001b[43m(\u001b[49m\u001b[43mLinearLinkedList\u001b[49m\u001b[43m)\u001b[49m\n",
      "File \u001b[1;32m~\\OneDrive\\SHARED\\Documents\\Studies\\Computing\\Practice\\_1_ Algorithms_and_Data_Structures\\3. Data Structures\\ds_backup\\ds_tests.py:24\u001b[0m, in \u001b[0;36mLLL_Test\u001b[1;34m(LinearLinkedList)\u001b[0m\n\u001b[0;32m     22\u001b[0m \u001b[38;5;66;03m# Put items from inlst into LLL, and sort LLL\u001b[39;00m\n\u001b[0;32m     23\u001b[0m \u001b[38;5;28;01mfor\u001b[39;00m num \u001b[38;5;129;01min\u001b[39;00m inlst:\n\u001b[1;32m---> 24\u001b[0m     \u001b[43mLLL\u001b[49m\u001b[38;5;241;43m.\u001b[39;49m\u001b[43minsert\u001b[49m(num)\n\u001b[0;32m     26\u001b[0m \u001b[38;5;28;01mif\u001b[39;00m \u001b[38;5;28mhasattr\u001b[39m(LLL, \u001b[38;5;124m'\u001b[39m\u001b[38;5;124msort_it\u001b[39m\u001b[38;5;124m'\u001b[39m):\n\u001b[0;32m     27\u001b[0m     LLL\u001b[38;5;241m.\u001b[39msort_it()\n",
      "\u001b[1;31mAttributeError\u001b[0m: 'LinearLinkedList' object has no attribute 'insert'"
     ]
    }
   ],
   "source": [
    "# Linear Linked List\n",
    "class Node:\n",
    "    pass\n",
    "        \n",
    "class LinearLinkedList:\n",
    "    pass\n",
    "            \n",
    "# Test\n",
    "from ds_backup.ds_tests import LLL_Test\n",
    "LLL_Test(LinearLinkedList)"
   ]
  },
  {
   "cell_type": "markdown",
   "id": "d8ed0298",
   "metadata": {},
   "source": [
    "---"
   ]
  },
  {
   "cell_type": "markdown",
   "id": "ddc90c09",
   "metadata": {},
   "source": [
    "## Sorted variation"
   ]
  },
  {
   "cell_type": "code",
   "execution_count": 2,
   "id": "c6cd2711",
   "metadata": {
    "scrolled": false
   },
   "outputs": [
    {
     "name": "stdout",
     "output_type": "stream",
     "text": [
      "test: [31, 94, 36, 75, 47, 88, 34, 46, 67, 10, 20, 84, 85, 70, 41]\n",
      "notinlst: [31, 94, 36, 75, 47]\n",
      "inlst: [88, 34, 46, 67, 10, 20, 84]\n",
      "after_empty: [85, 70, 41]\n",
      "\n",
      ">>> LLL:\n"
     ]
    },
    {
     "ename": "AttributeError",
     "evalue": "'SortedLinkedList' object has no attribute 'insert'",
     "output_type": "error",
     "traceback": [
      "\u001b[1;31m---------------------------------------------------------------------------\u001b[0m",
      "\u001b[1;31mAttributeError\u001b[0m                            Traceback (most recent call last)",
      "Cell \u001b[1;32mIn[2], line 6\u001b[0m\n\u001b[0;32m      4\u001b[0m \u001b[38;5;66;03m# Test\u001b[39;00m\n\u001b[0;32m      5\u001b[0m \u001b[38;5;28;01mfrom\u001b[39;00m \u001b[38;5;21;01mds_backup\u001b[39;00m\u001b[38;5;21;01m.\u001b[39;00m\u001b[38;5;21;01mds_tests\u001b[39;00m \u001b[38;5;28;01mimport\u001b[39;00m LLL_Test\n\u001b[1;32m----> 6\u001b[0m \u001b[43mLLL_Test\u001b[49m\u001b[43m(\u001b[49m\u001b[43mSortedLinkedList\u001b[49m\u001b[43m)\u001b[49m\n",
      "File \u001b[1;32m~\\OneDrive\\SHARED\\Documents\\Studies\\Computing\\Practice\\_1_ Algorithms_and_Data_Structures\\3. Data Structures\\ds_backup\\ds_tests.py:24\u001b[0m, in \u001b[0;36mLLL_Test\u001b[1;34m(LinearLinkedList)\u001b[0m\n\u001b[0;32m     22\u001b[0m \u001b[38;5;66;03m# Put items from inlst into LLL, and sort LLL\u001b[39;00m\n\u001b[0;32m     23\u001b[0m \u001b[38;5;28;01mfor\u001b[39;00m num \u001b[38;5;129;01min\u001b[39;00m inlst:\n\u001b[1;32m---> 24\u001b[0m     \u001b[43mLLL\u001b[49m\u001b[38;5;241;43m.\u001b[39;49m\u001b[43minsert\u001b[49m(num)\n\u001b[0;32m     26\u001b[0m \u001b[38;5;28;01mif\u001b[39;00m \u001b[38;5;28mhasattr\u001b[39m(LLL, \u001b[38;5;124m'\u001b[39m\u001b[38;5;124msort_it\u001b[39m\u001b[38;5;124m'\u001b[39m):\n\u001b[0;32m     27\u001b[0m     LLL\u001b[38;5;241m.\u001b[39msort_it()\n",
      "\u001b[1;31mAttributeError\u001b[0m: 'SortedLinkedList' object has no attribute 'insert'"
     ]
    }
   ],
   "source": [
    "class SortedLinkedList(LinearLinkedList):\n",
    "    pass\n",
    "    \n",
    "# Test\n",
    "from ds_backup.ds_tests import LLL_Test\n",
    "LLL_Test(SortedLinkedList)"
   ]
  },
  {
   "cell_type": "markdown",
   "id": "1613ba0d",
   "metadata": {},
   "source": [
    "---"
   ]
  },
  {
   "cell_type": "markdown",
   "id": "7863a4b2",
   "metadata": {},
   "source": [
    "## Stack\n",
    "A stack is a linear data structure that follows the First-In-Last-Out (FILO) principle, meaning that the last element added is the first one to be removed.\n",
    "\n",
    "### Main Methods\n",
    "- **push / pop**: These methods are used to add an element to the top of the stack (push) or remove the topmost element from the stack (pop).\n",
    "- **peek**: This method allows you to examine the topmost element of the stack without removing it.\n",
    "\n",
    "### Side Methods\n",
    "- **valid**: This method checks if the stack is empty by verifying if there are any elements in it.\n",
    "- **size**: This method returns the number of elements currently in the stack.\n",
    "- **display**: This method displays the elements of the stack in the order they would be popped, starting from the top.\n",
    "\n"
   ]
  },
  {
   "cell_type": "code",
   "execution_count": 3,
   "id": "1a0af7bb",
   "metadata": {
    "scrolled": true
   },
   "outputs": [
    {
     "name": "stdout",
     "output_type": "stream",
     "text": [
      "List: [76, 85, 12, 90, 73, 88, 86, 52, 70, 29]\n",
      "\n",
      ">>> Stack:\n"
     ]
    },
    {
     "ename": "AttributeError",
     "evalue": "'Stack' object has no attribute 'display'",
     "output_type": "error",
     "traceback": [
      "\u001b[1;31m---------------------------------------------------------------------------\u001b[0m",
      "\u001b[1;31mAttributeError\u001b[0m                            Traceback (most recent call last)",
      "Cell \u001b[1;32mIn[3], line 7\u001b[0m\n\u001b[0;32m      5\u001b[0m \u001b[38;5;66;03m# Test\u001b[39;00m\n\u001b[0;32m      6\u001b[0m \u001b[38;5;28;01mfrom\u001b[39;00m \u001b[38;5;21;01mds_backup\u001b[39;00m\u001b[38;5;21;01m.\u001b[39;00m\u001b[38;5;21;01mds_tests\u001b[39;00m \u001b[38;5;28;01mimport\u001b[39;00m Stack_Test\n\u001b[1;32m----> 7\u001b[0m \u001b[43mStack_Test\u001b[49m\u001b[43m(\u001b[49m\u001b[43mStack\u001b[49m\u001b[43m)\u001b[49m\n",
      "File \u001b[1;32m~\\OneDrive\\SHARED\\Documents\\Studies\\Computing\\Practice\\_1_ Algorithms_and_Data_Structures\\3. Data Structures\\ds_backup\\ds_tests.py:74\u001b[0m, in \u001b[0;36mStack_Test\u001b[1;34m(Stack)\u001b[0m\n\u001b[0;32m     72\u001b[0m S \u001b[38;5;241m=\u001b[39m Stack()\n\u001b[0;32m     73\u001b[0m \u001b[38;5;28mprint\u001b[39m(\u001b[38;5;124m\"\u001b[39m\u001b[38;5;124m>>> Stack:\u001b[39m\u001b[38;5;124m\"\u001b[39m)\n\u001b[1;32m---> 74\u001b[0m \u001b[38;5;28mprint\u001b[39m(\u001b[38;5;124mf\u001b[39m\u001b[38;5;124m\"\u001b[39m\u001b[38;5;124mStack: \u001b[39m\u001b[38;5;132;01m{\u001b[39;00m\u001b[43mS\u001b[49m\u001b[38;5;241;43m.\u001b[39;49m\u001b[43mdisplay\u001b[49m()\u001b[38;5;132;01m}\u001b[39;00m\u001b[38;5;124m\"\u001b[39m, \n\u001b[0;32m     75\u001b[0m       \u001b[38;5;124mf\u001b[39m\u001b[38;5;124m\"\u001b[39m\u001b[38;5;124mSize: \u001b[39m\u001b[38;5;132;01m{\u001b[39;00mS\u001b[38;5;241m.\u001b[39msize()\u001b[38;5;132;01m}\u001b[39;00m\u001b[38;5;124m\"\u001b[39m, \n\u001b[0;32m     76\u001b[0m       \u001b[38;5;124mf\u001b[39m\u001b[38;5;124m\"\u001b[39m\u001b[38;5;124mTop: \u001b[39m\u001b[38;5;132;01m{\u001b[39;00mS\u001b[38;5;241m.\u001b[39mpeek()\u001b[38;5;132;01m}\u001b[39;00m\u001b[38;5;124m\"\u001b[39m,\n\u001b[0;32m     77\u001b[0m       sep \u001b[38;5;241m=\u001b[39m \u001b[38;5;124m\"\u001b[39m\u001b[38;5;124m | \u001b[39m\u001b[38;5;124m\"\u001b[39m, end \u001b[38;5;241m=\u001b[39m \u001b[38;5;124m\"\u001b[39m\u001b[38;5;130;01m\\n\u001b[39;00m\u001b[38;5;130;01m\\n\u001b[39;00m\u001b[38;5;124m\"\u001b[39m)\n\u001b[0;32m     79\u001b[0m \u001b[38;5;66;03m# Put items into stack\u001b[39;00m\n\u001b[0;32m     80\u001b[0m \u001b[38;5;28;01mfor\u001b[39;00m item \u001b[38;5;129;01min\u001b[39;00m lst: \n",
      "\u001b[1;31mAttributeError\u001b[0m: 'Stack' object has no attribute 'display'"
     ]
    }
   ],
   "source": [
    "## Stack\n",
    "class Stack:\n",
    "    pass\n",
    "\n",
    "# Test\n",
    "from ds_backup.ds_tests import Stack_Test\n",
    "Stack_Test(Stack)"
   ]
  },
  {
   "cell_type": "markdown",
   "id": "35055566",
   "metadata": {},
   "source": [
    "---"
   ]
  },
  {
   "cell_type": "markdown",
   "id": "d0854665",
   "metadata": {},
   "source": [
    "## Queue\n",
    "> First In - First Out (FIFO)\n",
    "\n",
    "## Linear\n",
    "### Main Methods\n",
    "- **enqueue / dequeue**: `enqueue` adds an element to the rear of the queue, `dequeue` removes an element from the front of the queue\n",
    "- **peek**: Examine the element at the front of the queue without removing it.\n",
    "\n",
    "### Side Methods\n",
    "- **valid**: Checks if the queue is empty by verifying if there are any elements in it.\n",
    "- **size**: Returns the number of elements currently in the queue.\n",
    "- **display**: Displays the elements of the queue in the order they would be dequeued, starting from the front.\n"
   ]
  },
  {
   "cell_type": "code",
   "execution_count": 4,
   "id": "c11d5070",
   "metadata": {},
   "outputs": [
    {
     "name": "stdout",
     "output_type": "stream",
     "text": [
      "List: [60, 20, 89, 12, 13, 97, 62, 92, 43, 38]\n",
      ">>> LQ:\n"
     ]
    },
    {
     "ename": "AttributeError",
     "evalue": "'LinearQueue' object has no attribute 'display'",
     "output_type": "error",
     "traceback": [
      "\u001b[1;31m---------------------------------------------------------------------------\u001b[0m",
      "\u001b[1;31mAttributeError\u001b[0m                            Traceback (most recent call last)",
      "Cell \u001b[1;32mIn[4], line 7\u001b[0m\n\u001b[0;32m      5\u001b[0m \u001b[38;5;66;03m# Test\u001b[39;00m\n\u001b[0;32m      6\u001b[0m \u001b[38;5;28;01mfrom\u001b[39;00m \u001b[38;5;21;01mds_backup\u001b[39;00m\u001b[38;5;21;01m.\u001b[39;00m\u001b[38;5;21;01mds_tests\u001b[39;00m \u001b[38;5;28;01mimport\u001b[39;00m LinearQueue_Test\n\u001b[1;32m----> 7\u001b[0m \u001b[43mLinearQueue_Test\u001b[49m\u001b[43m(\u001b[49m\u001b[43mLinearQueue\u001b[49m\u001b[43m)\u001b[49m\n",
      "File \u001b[1;32m~\\OneDrive\\SHARED\\Documents\\Studies\\Computing\\Practice\\_1_ Algorithms_and_Data_Structures\\3. Data Structures\\ds_backup\\ds_tests.py:104\u001b[0m, in \u001b[0;36mLinearQueue_Test\u001b[1;34m(LinearQueue)\u001b[0m\n\u001b[0;32m    102\u001b[0m LQ \u001b[38;5;241m=\u001b[39m LinearQueue()\n\u001b[0;32m    103\u001b[0m \u001b[38;5;28mprint\u001b[39m(\u001b[38;5;124m\"\u001b[39m\u001b[38;5;124m>>> LQ:\u001b[39m\u001b[38;5;124m\"\u001b[39m)\n\u001b[1;32m--> 104\u001b[0m \u001b[38;5;28mprint\u001b[39m(\u001b[38;5;124mf\u001b[39m\u001b[38;5;124m\"\u001b[39m\u001b[38;5;124mLQ: \u001b[39m\u001b[38;5;132;01m{\u001b[39;00m\u001b[43mLQ\u001b[49m\u001b[38;5;241;43m.\u001b[39;49m\u001b[43mdisplay\u001b[49m()\u001b[38;5;132;01m}\u001b[39;00m\u001b[38;5;124m\"\u001b[39m,\n\u001b[0;32m    105\u001b[0m       \u001b[38;5;124mf\u001b[39m\u001b[38;5;124m\"\u001b[39m\u001b[38;5;124mSize: \u001b[39m\u001b[38;5;132;01m{\u001b[39;00mLQ\u001b[38;5;241m.\u001b[39msize()\u001b[38;5;132;01m}\u001b[39;00m\u001b[38;5;124m\"\u001b[39m,\n\u001b[0;32m    106\u001b[0m       \u001b[38;5;124mf\u001b[39m\u001b[38;5;124m\"\u001b[39m\u001b[38;5;124mFront: \u001b[39m\u001b[38;5;132;01m{\u001b[39;00mLQ\u001b[38;5;241m.\u001b[39mpeek()\u001b[38;5;132;01m}\u001b[39;00m\u001b[38;5;124m\"\u001b[39m,\n\u001b[0;32m    107\u001b[0m       sep \u001b[38;5;241m=\u001b[39m \u001b[38;5;124m\"\u001b[39m\u001b[38;5;124m | \u001b[39m\u001b[38;5;124m\"\u001b[39m, end \u001b[38;5;241m=\u001b[39m \u001b[38;5;124m\"\u001b[39m\u001b[38;5;130;01m\\n\u001b[39;00m\u001b[38;5;130;01m\\n\u001b[39;00m\u001b[38;5;124m\"\u001b[39m)\n\u001b[0;32m    109\u001b[0m \u001b[38;5;66;03m# Put items into LQ\u001b[39;00m\n\u001b[0;32m    110\u001b[0m \u001b[38;5;28;01mfor\u001b[39;00m item \u001b[38;5;129;01min\u001b[39;00m lst: \n",
      "\u001b[1;31mAttributeError\u001b[0m: 'LinearQueue' object has no attribute 'display'"
     ]
    }
   ],
   "source": [
    "# Linear Queue\n",
    "class LinearQueue:\n",
    "    pass\n",
    "    \n",
    "# Test\n",
    "from ds_backup.ds_tests import LinearQueue_Test\n",
    "LinearQueue_Test(LinearQueue)"
   ]
  },
  {
   "cell_type": "markdown",
   "id": "90c17a22",
   "metadata": {},
   "source": [
    "---"
   ]
  },
  {
   "cell_type": "markdown",
   "id": "585051b3",
   "metadata": {},
   "source": [
    "## Queue\n",
    "> First In - First Out (FIFO)\n",
    "\n",
    "## Circular\n",
    "\n",
    "### Main Methods\n",
    "- **enqueue / dequeue**: `enqueue` adds an element to the rear of the queue, `dequeue` removes an element from the front of the queue\n",
    "\n",
    "### Side Methods\n",
    "- **empty / full**: Check if the circular queue is empty or full, respectively.\n",
    "- **update_tail / update_head**: Update the tail or head pointers of the circular queue after enqueue or dequeue operations.\n",
    "- **head_at / tail_at**: Retrieve the value at the head or tail of the circular queue without removing it.\n",
    "- **size_of / max_size_of**: Get the current size or maximum size of the circular queue.\n",
    "- **display**: Display the elements of the circular queue in the order they are stored.\n"
   ]
  },
  {
   "cell_type": "code",
   "execution_count": 5,
   "id": "3c66d752",
   "metadata": {
    "scrolled": false
   },
   "outputs": [
    {
     "name": "stdout",
     "output_type": "stream",
     "text": [
      "List: [55, 44, 28, 52, 79, 14, 67, 15, 25, 69]\n",
      "\n"
     ]
    },
    {
     "ename": "TypeError",
     "evalue": "CircularQueue() takes no arguments",
     "output_type": "error",
     "traceback": [
      "\u001b[1;31m---------------------------------------------------------------------------\u001b[0m",
      "\u001b[1;31mTypeError\u001b[0m                                 Traceback (most recent call last)",
      "Cell \u001b[1;32mIn[5], line 7\u001b[0m\n\u001b[0;32m      5\u001b[0m \u001b[38;5;66;03m# Test\u001b[39;00m\n\u001b[0;32m      6\u001b[0m \u001b[38;5;28;01mfrom\u001b[39;00m \u001b[38;5;21;01mds_backup\u001b[39;00m\u001b[38;5;21;01m.\u001b[39;00m\u001b[38;5;21;01mds_tests\u001b[39;00m \u001b[38;5;28;01mimport\u001b[39;00m CircularQueue_Test\n\u001b[1;32m----> 7\u001b[0m \u001b[43mCircularQueue_Test\u001b[49m\u001b[43m(\u001b[49m\u001b[43mCircularQueue\u001b[49m\u001b[43m)\u001b[49m\n",
      "File \u001b[1;32m~\\OneDrive\\SHARED\\Documents\\Studies\\Computing\\Practice\\_1_ Algorithms_and_Data_Structures\\3. Data Structures\\ds_backup\\ds_tests.py:133\u001b[0m, in \u001b[0;36mCircularQueue_Test\u001b[1;34m(CircularQueue)\u001b[0m\n\u001b[0;32m    131\u001b[0m \u001b[38;5;66;03m# Create Empty CQ with length less than lst\u001b[39;00m\n\u001b[0;32m    132\u001b[0m len_CQ \u001b[38;5;241m=\u001b[39m \u001b[38;5;28mlen\u001b[39m(nums) \u001b[38;5;241m-\u001b[39m \u001b[38;5;241m1\u001b[39m\n\u001b[1;32m--> 133\u001b[0m CQ \u001b[38;5;241m=\u001b[39m \u001b[43mCircularQueue\u001b[49m\u001b[43m(\u001b[49m\u001b[43mlen_CQ\u001b[49m\u001b[43m)\u001b[49m\n\u001b[0;32m    134\u001b[0m \u001b[38;5;28mprint\u001b[39m(\u001b[38;5;124m\"\u001b[39m\u001b[38;5;124m>>> CQ\u001b[39m\u001b[38;5;124m\"\u001b[39m)\n\u001b[0;32m    135\u001b[0m \u001b[38;5;28mprint\u001b[39m(\u001b[38;5;124mf\u001b[39m\u001b[38;5;124m\"\u001b[39m\u001b[38;5;124mMax_size: \u001b[39m\u001b[38;5;132;01m{\u001b[39;00mCQ\u001b[38;5;241m.\u001b[39mmax_size_of()\u001b[38;5;132;01m}\u001b[39;00m\u001b[38;5;124m\"\u001b[39m)\n",
      "\u001b[1;31mTypeError\u001b[0m: CircularQueue() takes no arguments"
     ]
    }
   ],
   "source": [
    "# Circular Queue\n",
    "class CircularQueue:\n",
    "    pass\n",
    "    \n",
    "# Test\n",
    "from ds_backup.ds_tests import CircularQueue_Test\n",
    "CircularQueue_Test(CircularQueue)"
   ]
  },
  {
   "cell_type": "markdown",
   "id": "a2f9e565",
   "metadata": {},
   "source": [
    "---"
   ]
  },
  {
   "cell_type": "markdown",
   "id": "dfcc11e3",
   "metadata": {},
   "source": [
    "## Binary Search Tree\n",
    "\n",
    "A binary search tree (BST) is a hierarchical data structure where each node has at most two children. The left child of a node contains values smaller than the parent node, while the right child contains values greater than the parent node. This property holds true recursively for all nodes in the tree, down to the leaf nodes.\n",
    "\n",
    "### Main Methods\n",
    "- **put**: Adds a new node with a given value to the BST, maintaining the binary search tree property.\n",
    "- **find**: Searches for a node with a specified value in the BST and returns True if found, or False otherwise.\n",
    "- **traversals (inorder, preorder, postorder)**: Perform different ways of traversing the BST to visit and process nodes in a specific order.\n",
    "\n",
    "### Side Methods\n",
    "- **min_ / max_**: Find the minimum or maximum value in the BST by traversing to the leftmost or rightmost node, respectively.\n",
    "- **height**: Calculates the height of the BST, which is the maximum depth of the tree (the number of edges on the longest path from the root to a leaf node).\n",
    "- **size**: Returns the number of nodes in the BST.\n",
    "\n",
    "Note: The deletion operation is not included in this description. Implementing deletion in a BST can be more complex and involves handling various cases based on the structure of the tree.\n",
    "\n"
   ]
  },
  {
   "cell_type": "code",
   "execution_count": 6,
   "id": "0985a0fb",
   "metadata": {
    "scrolled": true
   },
   "outputs": [
    {
     "name": "stdout",
     "output_type": "stream",
     "text": [
      "List: [88, 19, 15, 29, 74, 36, 67]\n",
      "Sorted: [15, 19, 29, 36, 67, 74, 88]\n",
      "\n",
      ">>> BST:\n"
     ]
    },
    {
     "ename": "AttributeError",
     "evalue": "'BinarySearchTree' object has no attribute 'put'",
     "output_type": "error",
     "traceback": [
      "\u001b[1;31m---------------------------------------------------------------------------\u001b[0m",
      "\u001b[1;31mAttributeError\u001b[0m                            Traceback (most recent call last)",
      "Cell \u001b[1;32mIn[6], line 10\u001b[0m\n\u001b[0;32m      8\u001b[0m \u001b[38;5;66;03m# Test\u001b[39;00m\n\u001b[0;32m      9\u001b[0m \u001b[38;5;28;01mfrom\u001b[39;00m \u001b[38;5;21;01mds_backup\u001b[39;00m\u001b[38;5;21;01m.\u001b[39;00m\u001b[38;5;21;01mds_tests\u001b[39;00m \u001b[38;5;28;01mimport\u001b[39;00m BinarySearchTree_Test\n\u001b[1;32m---> 10\u001b[0m \u001b[43mBinarySearchTree_Test\u001b[49m\u001b[43m(\u001b[49m\u001b[43mBinarySearchTree\u001b[49m\u001b[43m)\u001b[49m\n",
      "File \u001b[1;32m~\\OneDrive\\SHARED\\Documents\\Studies\\Computing\\Practice\\_1_ Algorithms_and_Data_Structures\\3. Data Structures\\ds_backup\\ds_tests.py:213\u001b[0m, in \u001b[0;36mBinarySearchTree_Test\u001b[1;34m(BinarySearchTree)\u001b[0m\n\u001b[0;32m    211\u001b[0m \u001b[38;5;66;03m# Put items into bst\u001b[39;00m\n\u001b[0;32m    212\u001b[0m \u001b[38;5;28;01mfor\u001b[39;00m item \u001b[38;5;129;01min\u001b[39;00m lst:\n\u001b[1;32m--> 213\u001b[0m     \u001b[43mBST\u001b[49m\u001b[38;5;241;43m.\u001b[39;49m\u001b[43mput\u001b[49m(item)\n\u001b[0;32m    214\u001b[0m \u001b[38;5;28mprint\u001b[39m(\u001b[38;5;124m\"\u001b[39m\u001b[38;5;124mAFTER INSERTION:\u001b[39m\u001b[38;5;124m\"\u001b[39m,\n\u001b[0;32m    215\u001b[0m       \u001b[38;5;124mf\u001b[39m\u001b[38;5;124m\"\u001b[39m\u001b[38;5;124mSize: \u001b[39m\u001b[38;5;132;01m{\u001b[39;00mBST\u001b[38;5;241m.\u001b[39msize()\u001b[38;5;132;01m}\u001b[39;00m\u001b[38;5;124m | \u001b[39m\u001b[38;5;132;01m{\u001b[39;00mBST\u001b[38;5;241m.\u001b[39msize()\u001b[38;5;250m \u001b[39m\u001b[38;5;241m==\u001b[39m\u001b[38;5;250m \u001b[39m\u001b[38;5;28mlen\u001b[39m(lst)\u001b[38;5;132;01m}\u001b[39;00m\u001b[38;5;124m\"\u001b[39m,\n\u001b[0;32m    216\u001b[0m       \u001b[38;5;124mf\u001b[39m\u001b[38;5;124m\"\u001b[39m\u001b[38;5;124mHeight: \u001b[39m\u001b[38;5;132;01m{\u001b[39;00mBST\u001b[38;5;241m.\u001b[39mheight()\u001b[38;5;132;01m}\u001b[39;00m\u001b[38;5;124m | idk how to display this\u001b[39m\u001b[38;5;124m\"\u001b[39m,\n\u001b[0;32m    217\u001b[0m       \u001b[38;5;124mf\u001b[39m\u001b[38;5;124m\"\u001b[39m\u001b[38;5;124mMin: \u001b[39m\u001b[38;5;132;01m{\u001b[39;00mBST\u001b[38;5;241m.\u001b[39mmin_of()\u001b[38;5;132;01m}\u001b[39;00m\u001b[38;5;124m | \u001b[39m\u001b[38;5;132;01m{\u001b[39;00mBST\u001b[38;5;241m.\u001b[39mmin_of()\u001b[38;5;250m \u001b[39m\u001b[38;5;241m==\u001b[39m\u001b[38;5;250m \u001b[39m\u001b[38;5;28mmin\u001b[39m(lst)\u001b[38;5;132;01m}\u001b[39;00m\u001b[38;5;124m\"\u001b[39m,\n\u001b[0;32m    218\u001b[0m       \u001b[38;5;124mf\u001b[39m\u001b[38;5;124m\"\u001b[39m\u001b[38;5;124mMax: \u001b[39m\u001b[38;5;132;01m{\u001b[39;00mBST\u001b[38;5;241m.\u001b[39mmax_of()\u001b[38;5;132;01m}\u001b[39;00m\u001b[38;5;124m | \u001b[39m\u001b[38;5;132;01m{\u001b[39;00mBST\u001b[38;5;241m.\u001b[39mmax_of()\u001b[38;5;250m \u001b[39m\u001b[38;5;241m==\u001b[39m\u001b[38;5;250m \u001b[39m\u001b[38;5;28mmax\u001b[39m(lst)\u001b[38;5;132;01m}\u001b[39;00m\u001b[38;5;124m\"\u001b[39m,\n\u001b[0;32m    219\u001b[0m       sep \u001b[38;5;241m=\u001b[39m \u001b[38;5;124m\"\u001b[39m\u001b[38;5;130;01m\\n\u001b[39;00m\u001b[38;5;124m\"\u001b[39m, end \u001b[38;5;241m=\u001b[39m \u001b[38;5;124m\"\u001b[39m\u001b[38;5;130;01m\\n\u001b[39;00m\u001b[38;5;130;01m\\n\u001b[39;00m\u001b[38;5;124m\"\u001b[39m)\n\u001b[0;32m    221\u001b[0m items \u001b[38;5;241m=\u001b[39m sample(lst, \u001b[38;5;241m5\u001b[39m) \u001b[38;5;241m+\u001b[39m randlst([\u001b[38;5;241m5\u001b[39m, \u001b[38;5;241m10\u001b[39m, \u001b[38;5;241m100\u001b[39m]) \u001b[38;5;66;03m# 5 confirm in list, 5 might be in list\u001b[39;00m\n",
      "\u001b[1;31mAttributeError\u001b[0m: 'BinarySearchTree' object has no attribute 'put'"
     ]
    }
   ],
   "source": [
    "# Binary Search Tree\n",
    "class Node: # Node\n",
    "    pass\n",
    "\n",
    "class BinarySearchTree:\n",
    "    pass\n",
    "\n",
    "# Test\n",
    "from ds_backup.ds_tests import BinarySearchTree_Test\n",
    "BinarySearchTree_Test(BinarySearchTree)"
   ]
  }
 ],
 "metadata": {
  "kernelspec": {
   "display_name": "Python 3 (ipykernel)",
   "language": "python",
   "name": "python3"
  },
  "language_info": {
   "codemirror_mode": {
    "name": "ipython",
    "version": 3
   },
   "file_extension": ".py",
   "mimetype": "text/x-python",
   "name": "python",
   "nbconvert_exporter": "python",
   "pygments_lexer": "ipython3",
   "version": "3.11.3"
  }
 },
 "nbformat": 4,
 "nbformat_minor": 5
}
