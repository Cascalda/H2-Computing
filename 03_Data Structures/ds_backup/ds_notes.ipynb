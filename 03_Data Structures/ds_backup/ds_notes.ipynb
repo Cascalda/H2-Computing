{
 "cells": [
  {
   "cell_type": "markdown",
   "id": "385232ec",
   "metadata": {},
   "source": [
    "# Data Structures\n",
    "\n",
    "- Linked List (Linear)\n",
    "- Stack\n",
    "- Queue (Linear, Circular)\n",
    "- Binary Search Tree (Normal, Freespace)\n"
   ]
  },
  {
   "cell_type": "markdown",
   "id": "2bfb6ce0",
   "metadata": {},
   "source": [
    "---"
   ]
  },
  {
   "cell_type": "markdown",
   "id": "47580729",
   "metadata": {},
   "source": [
    "## Linked List\n",
    "A linked list is a linear data structure composed of a series of connected nodes. In a singly-linked list, each node contains data and a reference (or link) to the next node in the list. The first node is called the head, and the last node's reference is set to `None`.\n",
    "\n",
    "### Main Methods\n",
    "- **insert / delete**: The `insert` operation inserts a new node at the end of the list, while `delete` deletes a node.\n",
    "- **sort_it**: Sorts the linked list based on the values stored in the nodes.\n",
    "- **find**: Searches for a particular value or node within the linked list.\n",
    "\n",
    "### Side Methods\n",
    "- **empty**: Checks whether the linked list is empty by verifying if the head node is `None`.\n",
    "- **size**: Returns the number of nodes in the linked list.\n",
    "- **display**: Displays the contents of the linked list by traversing through each node."
   ]
  },
  {
   "cell_type": "markdown",
   "id": "1613ba0d",
   "metadata": {},
   "source": [
    "---"
   ]
  },
  {
   "cell_type": "markdown",
   "id": "7863a4b2",
   "metadata": {},
   "source": [
    "## Stack\n",
    "A stack is a linear data structure that follows the First-In-Last-Out (FILO) principle, meaning that the last element added is the first one to be removed.\n",
    "\n",
    "### Main Methods\n",
    "- **push / pop**: These methods are used to add an element to the top of the stack (push) or remove the topmost element from the stack (pop).\n",
    "- **peek**: This method allows you to examine the topmost element of the stack without removing it.\n",
    "\n",
    "### Side Methods\n",
    "- **valid**: This method checks if the stack is empty by verifying if there are any elements in it.\n",
    "- **size**: This method returns the number of elements currently in the stack.\n",
    "- **display**: This method displays the elements of the stack in the order they would be popped, starting from the top.\n",
    "\n"
   ]
  },
  {
   "cell_type": "markdown",
   "id": "35055566",
   "metadata": {},
   "source": [
    "---"
   ]
  },
  {
   "cell_type": "markdown",
   "id": "d0854665",
   "metadata": {},
   "source": [
    "## Queue\n",
    "> First In - First Out (FIFO)\n",
    "\n",
    "## Linear\n",
    "### Main Methods\n",
    "- **enqueue / dequeue**: `enqueue` adds an element to the rear of the queue, `dequeue` removes an element from the front of the queue\n",
    "- **peek**: Examine the element at the front of the queue without removing it.\n",
    "\n",
    "### Side Methods\n",
    "- **valid**: Checks if the queue is empty by verifying if there are any elements in it.\n",
    "- **size**: Returns the number of elements currently in the queue.\n",
    "- **display**: Displays the elements of the queue in the order they would be dequeued, starting from the front.\n"
   ]
  },
  {
   "cell_type": "markdown",
   "id": "90c17a22",
   "metadata": {},
   "source": [
    "---"
   ]
  },
  {
   "cell_type": "markdown",
   "id": "585051b3",
   "metadata": {},
   "source": [
    "## Queue\n",
    "> First In - First Out (FIFO)\n",
    "\n",
    "## Circular\n",
    "\n",
    "### Main Methods\n",
    "- **enqueue / dequeue**: `enqueue` adds an element to the rear of the queue, `dequeue` removes an element from the front of the queue\n",
    "\n",
    "### Side Methods\n",
    "- **empty / full**: Check if the circular queue is empty or full, respectively.\n",
    "- **update_tail / update_head**: Update the tail or head pointers of the circular queue after enqueue or dequeue operations.\n",
    "- **head_at / tail_at**: Retrieve the value at the head or tail of the circular queue without removing it.\n",
    "- **size_of / max_size_of**: Get the current size or maximum size of the circular queue.\n",
    "- **display**: Display the elements of the circular queue in the order they are stored.\n"
   ]
  },
  {
   "cell_type": "markdown",
   "id": "a2f9e565",
   "metadata": {},
   "source": [
    "---"
   ]
  },
  {
   "cell_type": "markdown",
   "id": "dfcc11e3",
   "metadata": {},
   "source": [
    "## Binary Search Tree\n",
    "\n",
    "A binary search tree (BST) is a hierarchical data structure where each node has at most two children. The left child of a node contains values smaller than the parent node, while the right child contains values greater than the parent node. This property holds true recursively for all nodes in the tree, down to the leaf nodes.\n",
    "\n",
    "### Main Methods\n",
    "- **put**: Adds a new node with a given value to the BST, maintaining the binary search tree property.\n",
    "- **find**: Searches for a node with a specified value in the BST and returns True if found, or False otherwise.\n",
    "- **traversals (inorder, preorder, postorder)**: Perform different ways of traversing the BST to visit and process nodes in a specific order.\n",
    "\n",
    "### Side Methods\n",
    "- **min_ / max_**: Find the minimum or maximum value in the BST by traversing to the leftmost or rightmost node, respectively.\n",
    "- **height**: Calculates the height of the BST, which is the maximum depth of the tree (the number of edges on the longest path from the root to a leaf node).\n",
    "- **size**: Returns the number of nodes in the BST.\n",
    "\n",
    "Note: The deletion operation is not included in this description. Implementing deletion in a BST can be more complex and involves handling various cases based on the structure of the tree.\n",
    "\n"
   ]
  }
 ],
 "metadata": {
  "kernelspec": {
   "display_name": "Python 3 (ipykernel)",
   "language": "python",
   "name": "python3"
  },
  "language_info": {
   "codemirror_mode": {
    "name": "ipython",
    "version": 3
   },
   "file_extension": ".py",
   "mimetype": "text/x-python",
   "name": "python",
   "nbconvert_exporter": "python",
   "pygments_lexer": "ipython3",
   "version": "3.11.3"
  }
 },
 "nbformat": 4,
 "nbformat_minor": 5
}
