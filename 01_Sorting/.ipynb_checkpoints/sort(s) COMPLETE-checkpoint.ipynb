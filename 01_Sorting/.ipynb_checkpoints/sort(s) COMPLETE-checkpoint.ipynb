{
 "cells": [
  {
   "cell_type": "markdown",
   "id": "e1a6b16f",
   "metadata": {},
   "source": [
    "## Sorts\n",
    "- Bubble\n",
    "- Insertion\n",
    "- Selection (NOT IN SYLLABUS)\n",
    "- Merge\n",
    "- Quick (3-way Quicksort is IN SYLLABUS. Basic Quicksort is not.)\n",
    "\n",
    "## Remarks\n",
    "- Iterative in-place sorting algorithms do not need to use the `return` statement, but for the sake of testing, it is recommended to include it.\n",
    "- Only the Big O Notation is tested for Time Complexity.\n"
   ]
  },
  {
   "cell_type": "markdown",
   "id": "7f2370e1",
   "metadata": {},
   "source": [
    "---"
   ]
  },
  {
   "cell_type": "markdown",
   "id": "8911cf6a",
   "metadata": {},
   "source": [
    "## Bubble Sort\n",
    "\n",
    "> **In-Place Sorting Algorithm**\n",
    "\n",
    "A simple sorting algorithm that repeatedly moves the **largest element** to the **end of the list**.\n",
    "\n",
    "### Method\n",
    "\n",
    "- Compare each element with its adjacent element and **swap** them if they are in the wrong order.\n",
    "- Repeat this process for each element until the list is **sorted**.\n",
    "- Optimize the algorithm by **skipping unnecessary comparisons** and stopping early if the list is already sorted.\n",
    "\n",
    "### Time Complexity\n",
    "\n",
    "- Worst-case: **O(n^2)**\n",
    "- Average-case: **θ(n^2)**\n",
    "- Best-case: **Ω(n)**\n"
   ]
  },
  {
   "cell_type": "code",
   "execution_count": 32,
   "id": "039bbb2d",
   "metadata": {
    "scrolled": false
   },
   "outputs": [
    {
     "name": "stdout",
     "output_type": "stream",
     "text": [
      "nums: [55, 13, 59, 67, 12, 41, 41, 27, 23, 54]\n",
      "Valid: [12, 13, 23, 27, 41, 41, 54, 55, 59, 67]\n",
      "\n",
      ">>> bubblesort_1: [12, 13, 23, 27, 41, 41, 54, 55, 59, 67] | True\n",
      ">>> bubblesort_2: [12, 13, 23, 27, 41, 41, 54, 55, 59, 67] | True\n",
      ">>> bubblesort_3: [12, 13, 23, 27, 41, 41, 54, 55, 59, 67] | True\n"
     ]
    }
   ],
   "source": [
    "## Un-optimised\n",
    "def bubblesort_1(nums):\n",
    "    min_range = len(nums) - 1 \n",
    "\n",
    "    # Checking all the numbers\n",
    "    for i in range(min_range):\n",
    "        # Doing the swaps in the unsorted portion\n",
    "        for j in range(min_range - i):\n",
    "            # Swap if curr > next\n",
    "            if nums[j] > nums[j+1]:\n",
    "                nums[j], nums[j+1] = nums[j+1], nums[j]\n",
    "                \n",
    "    return nums # for easy testing\n",
    "\n",
    "def bubblesort_2(nums):\n",
    "    min_range = len(nums) - 1\n",
    "    \n",
    "    for unsorted in range(min_range, 0, -1):\n",
    "        for i in range(unsorted):\n",
    "            if nums[i] > nums[i+1]:\n",
    "                nums[i], nums[i+1] = nums[i+1], nums[i]\n",
    "    \n",
    "    return nums # for easy testing\n",
    "            \n",
    "\n",
    "## Optimised\n",
    "def bubblesort_3(nums):\n",
    "    min_range = len(nums) - 1\n",
    "    \n",
    "    for unsorted in range(min_range, 0, -1):\n",
    "        # Check for swaps\n",
    "        swapped = False\n",
    "        \n",
    "        for i in range(unsorted):\n",
    "            if nums[i] > nums[i+1]:\n",
    "                nums[i], nums[i+1] = nums[i+1], nums[i]\n",
    "                swapped = True\n",
    "                \n",
    "        # Stop if already sorted\n",
    "        if not swapped:\n",
    "            break\n",
    "            \n",
    "    return nums # for easy testing\n",
    "\n",
    "## Test\n",
    "from sort_backup.sort_tests import sort_Test\n",
    "sorts = {\n",
    "    \"bubblesort_1\": bubblesort_1,\n",
    "    \"bubblesort_2\": bubblesort_2,\n",
    "    \"bubblesort_3\": bubblesort_3\n",
    "}; sort_Test(sorts)"
   ]
  },
  {
   "cell_type": "markdown",
   "id": "c2d07973",
   "metadata": {},
   "source": [
    "---"
   ]
  },
  {
   "cell_type": "markdown",
   "id": "29422300",
   "metadata": {},
   "source": [
    "## Insertion Sort\n",
    "\n",
    "> **In-Place Sorting Algorithm**\n",
    "\n",
    "A simple sorting algorithm that sorts each element by moving it **backwards** until it reaches its **correct position**.\n",
    "\n",
    "### Method\n",
    "\n",
    "- Check each element in the list.\n",
    "- Compare the **current element** with the **previous element**.\n",
    "- If the **current element** is smaller than the **previous element**, continuously **shift** the **previous element** backwards until the correct position is found.\n",
    "\n",
    "*[Optimization]*: Instead of **swapping** elements, we can **shift** them.\n",
    "\n",
    "### Time Complexity\n",
    "\n",
    "- Worst-case: **O(n^2)**\n",
    "- Average-case: **θ(n^2)**\n",
    "- Best-case: **Ω(n)**\n"
   ]
  },
  {
   "cell_type": "code",
   "execution_count": 47,
   "id": "b523dfe2",
   "metadata": {},
   "outputs": [
    {
     "name": "stdout",
     "output_type": "stream",
     "text": [
      "nums: [53, 24, 10, 38, 85, 74, 33, 85, 53, 41]\n",
      "Valid: [10, 24, 33, 38, 41, 53, 53, 74, 85, 85]\n",
      "\n",
      ">>> insertion_sort_1: [10, 24, 33, 38, 41, 53, 53, 74, 85, 85] | True\n",
      ">>> insertion_sort_2: [10, 24, 33, 38, 41, 53, 53, 74, 85, 85] | True\n"
     ]
    }
   ],
   "source": [
    "## Un-optimised\n",
    "def insertion_sort_1(nums):\n",
    "    # Check all the numbers (checking from the 2nd one is negligibly faster)\n",
    "    for i, _ in enumerate(nums):\n",
    "        \n",
    "        # Continuously swap if not at first index AND curr < prev\n",
    "        while (i > 0) and (nums[i] < nums[i-1]):\n",
    "            nums[i], nums[i-1] = nums[i-1], nums[i]\n",
    "            i -= 1\n",
    "    \n",
    "    return nums # for easy testing\n",
    "\n",
    "## Optimised\n",
    "def insertion_sort_2(nums):\n",
    "    \n",
    "    for i, curr_num in enumerate(nums):\n",
    "        while (i > 0) and (curr_num < nums[i-1]):\n",
    "            # Shift the previous number to the right instead of swapping this time\n",
    "            nums[i] = nums[i-1]\n",
    "            i -= 1\n",
    "            \n",
    "        # Now we can insert curr_num into correct place\n",
    "        nums[i] = curr_num\n",
    "    \n",
    "    return nums # for easy testing\n",
    "\n",
    "## Test\n",
    "from sort_backup.sort_tests import sort_Test\n",
    "sorts = {\n",
    "    \"insertion_sort_1\": insertion_sort_1,\n",
    "    \"insertion_sort_2\": insertion_sort_2\n",
    "}; sort_Test(sorts)"
   ]
  },
  {
   "cell_type": "markdown",
   "id": "792438ef",
   "metadata": {},
   "source": [
    "---"
   ]
  },
  {
   "cell_type": "markdown",
   "id": "b2cf9a5a",
   "metadata": {},
   "source": [
    "## Selection Sort\n",
    "\n",
    "> **In-Place Sorting Algorithm**\n",
    "\n",
    "A simple sorting algorithm that efficiently divides the list into a sorted left portion and an unsorted right portion. It repeatedly finds the minimum element from the unsorted portion and places it in the sorted portion.\n",
    "\n",
    "### Method\n",
    "\n",
    "- Iterate through each element of the list.\n",
    "- Find the minimum element within the unsorted portion.\n",
    "- Swap the minimum element with the first element in the unsorted portion.\n",
    "\n",
    "### Time Complexity\n",
    "\n",
    "- Worst-case: **O(n^2)**\n",
    "- Average-case: **θ(n^2)**\n",
    "- Best-case: **Ω(n^2)**"
   ]
  },
  {
   "cell_type": "code",
   "execution_count": null,
   "id": "75b34c7e",
   "metadata": {
    "scrolled": true
   },
   "outputs": [],
   "source": [
    "def selection_sort(nums):\n",
    "    \n",
    "    # Iterate through the unsorted portion of the list\n",
    "    for swap_at, _ in enumerate(nums):\n",
    "        min_at = swap_at\n",
    "\n",
    "        # Find the index of the minimum element within the unsorted portion\n",
    "        for i in range(swap_at, len(nums)):\n",
    "            if nums[i] < nums[min_at]:\n",
    "                min_at = i\n",
    "\n",
    "        # If the minimum element is found at a different index, swap them\n",
    "        if min_at != swap_at:\n",
    "            nums[min_at], nums[swap_at] = nums[swap_at], nums[min_at]\n",
    "\n",
    "    return nums\n",
    "\n",
    "        \n",
    "\n",
    "## Test\n",
    "from sort_backup.sort_tests import sort_Test\n",
    "sorts = {\n",
    "    \"selection_sort\": selection_sort\n",
    "}; sort_Test(sorts)"
   ]
  },
  {
   "cell_type": "markdown",
   "id": "7a78f052",
   "metadata": {},
   "source": [
    "---"
   ]
  },
  {
   "cell_type": "markdown",
   "id": "36336915",
   "metadata": {},
   "source": [
    "## Merge Sort\n",
    "\n",
    "> **Out-of-Place Sorting Algorithm**\n",
    "\n",
    "Merge sort is a divide and conquer algorithm that efficiently sorts large lists by recursively partitioning it and merging the sorted partitions.\n",
    "\n",
    "### Method\n",
    "\n",
    "1. **Recursive Partitioning**: Divide the list into two halves using the midpoint.\n",
    "2. **Sorting**: Compare the numbers in the sublists and merge them into a new sorted list. Add any remaining numbers when one of the sublists becomes empty.\n",
    "\n",
    "*Important Note: Ensure the midpoint is calculated correctly to avoid an infinite loop.*\n",
    "\n",
    "### Time Complexity\n",
    "\n",
    "- Worst-case: **O(n log(n))**\n",
    "- Average-case: **θ(n log(n))**\n",
    "- Best-case: **Ω(n log(n))**"
   ]
  },
  {
   "cell_type": "code",
   "execution_count": 35,
   "id": "e04149a5",
   "metadata": {},
   "outputs": [
    {
     "name": "stdout",
     "output_type": "stream",
     "text": [
      "nums: [77, 12, 78, 67, 85, 46, 40, 63, 94, 39]\n",
      "Valid: [12, 39, 40, 46, 63, 67, 77, 78, 85, 94]\n",
      "\n",
      ">>> merge_sort_standard: [12, 39, 40, 46, 63, 67, 77, 78, 85, 94] | True\n",
      ">>> merge_sort_short: [12, 39, 40, 46, 63, 67, 77, 78, 85, 94] | True\n"
     ]
    }
   ],
   "source": [
    "# Method 1: Better performance for larger lists by using 2 pointers when sorting\n",
    "def merge_sort_standard(nums):\n",
    "    if len(nums) > 1:\n",
    "        \n",
    "        # Find mid-point\n",
    "        mid_at = len(nums) // 2\n",
    "        \n",
    "        # Recursive Partition\n",
    "        left = merge_sort(nums[:mid_at])\n",
    "        right = merge_sort(nums[mid_at:])\n",
    "        \n",
    "        # Sorting\n",
    "        merged = []\n",
    "        left_index, right_index = 0, 0\n",
    "        \n",
    "        # Sorting with 2 pointers\n",
    "        while left_index < len(left) and right_index < len(right):\n",
    "            if left[left_index] < right[right_index]:\n",
    "                merged.append(left[left_index])\n",
    "                left_index += 1\n",
    "            else:\n",
    "                merged.append(right[right_index])\n",
    "                right_index += 1\n",
    "        \n",
    "        # Sort the residual numbers\n",
    "        merged.extend(left[left_index:])\n",
    "        merged.extend(right[right_index:])\n",
    "\n",
    "        return merged\n",
    "    \n",
    "    return nums\n",
    "\n",
    "# Method 2: Easier to write, but worse performance on larger lists, i.e thousands or more elements\n",
    "def merge_sort_short(nums):\n",
    "\n",
    "    if len(nums) > 1:\n",
    "\n",
    "        mid_at = len(nums) // 2\n",
    "        left_partition = merge_sort(nums[:mid_at])\n",
    "        right_partition = merge_sort(nums[mid_at:])\n",
    "        \n",
    "        # Sorting\n",
    "        def merge(left, right):\n",
    "            result = []\n",
    "            \n",
    "            # Sorting with pop\n",
    "            while left and right:\n",
    "                if left[0] < right[0]:\n",
    "                    result.append(left.pop(0))\n",
    "                else:\n",
    "                    result.append(right.pop(0))\n",
    "                    \n",
    "            return result + left + right\n",
    "        return merge(left_partition, right_partition)\n",
    "    return nums\n",
    "\n",
    "## Test\n",
    "from sort_backup.sort_tests import sort_Test\n",
    "sorts = {\n",
    "    \"merge_sort_standard\": merge_sort_standard,\n",
    "    \"merge_sort_short\": merge_sort_short\n",
    "}; sort_Test(sorts)"
   ]
  },
  {
   "cell_type": "markdown",
   "id": "17f4328a",
   "metadata": {},
   "source": [
    "---"
   ]
  },
  {
   "cell_type": "markdown",
   "id": "0d5521ce",
   "metadata": {},
   "source": [
    "## Quick Sort\n",
    "\n",
    "> **In-Place Sorting Algorithm**\n",
    "\n",
    "Quick Sort is a divide and conquer algorithm that involves sorting and recursive partitioning.\n",
    "\n",
    "- **Sorting:**\n",
    "    - Find the pivot:\n",
    "        - First element (**convenient for small sizes, easiest to code**)\n",
    "        - Median element (**fastest in theory, more complicated to code**)\n",
    "        - Random element (**fastest in real-world, fairly quick to code**)\n",
    "    - Compare each number with the pivot and place it on the correct side.\n",
    "    \n",
    "    \n",
    "- **Recursive Partitioning:**\n",
    "    - Splitting the list by the pivot\n",
    "\n",
    "### Method 1: 3-Way QuickSort\n",
    "- Define three empty lists: `lower`, `greater`, `equal`.\n",
    "- Find the pivot.\n",
    "- Compare each number with the pivot and sort it into the correct list.\n",
    "- Perform recursive partitioning.\n",
    "\n",
    "### Method 2: Basic QuickSort (Not-in-Syllabus)\n",
    "- Base case: `start < end`.\n",
    "- Get the pivot and two pointers, `i` and `j`:\n",
    "    - `i` finds elements greater than the pivot and becomes the next low.\n",
    "    - `j` finds elements smaller than the pivot and becomes the next high.\n",
    "- While the pivot is not sorted, update `i` and `j` accordingly.\n",
    "- Perform recursive partitioning.\n",
    "\n",
    "### Time Complexity\n",
    "- Worst-case: **O(n^2)**\n",
    "- Average-case: **θ(n log(n))**\n",
    "- Best-case: **Ω(n log(n))**\n"
   ]
  },
  {
   "cell_type": "code",
   "execution_count": 47,
   "id": "53634696",
   "metadata": {},
   "outputs": [
    {
     "name": "stdout",
     "output_type": "stream",
     "text": [
      "nums: [28, 68, 98, 76, 47, 32, 27, 34, 87, 98]\n",
      "Valid: [27, 28, 32, 34, 47, 68, 76, 87, 98, 98]\n",
      "\n",
      ">>> quick_sort_3_way: [27, 28, 32, 34, 47, 68, 76, 87, 98, 98] | True\n",
      ">>> quick_sort_basic: [27, 28, 32, 34, 47, 68, 76, 87, 98, 98] | True\n"
     ]
    }
   ],
   "source": [
    "# Method 1: 3-way Quicksort\n",
    "import random\n",
    "def quick_sort_3_way(nums, low=0, high=None):\n",
    "    if high is None:\n",
    "        high = len(nums) - 1\n",
    "\n",
    "    if len(nums) > 1:\n",
    "        # Get pivot and 3 empty lists\n",
    "        pivot = nums[random.randint(low, high)]\n",
    "        smaller, equals, bigger = [], [], []\n",
    "        \n",
    "        # Sort every number in list accordingly\n",
    "        for num in nums:\n",
    "            if num < pivot:\n",
    "                smaller.append(num)\n",
    "            elif num > pivot:\n",
    "                bigger.append(num)\n",
    "            else:\n",
    "                equals.append(num)\n",
    "        \n",
    "        # Recursive Partition\n",
    "        return quick_sort_3_way(smaller) + equals + quick_sort_3_way(bigger)\n",
    "    \n",
    "    return nums # for easy testing\n",
    "                \n",
    "        \n",
    "# Method 2: Basic Quicksort\n",
    "import random\n",
    "def quick_sort_basic(nums, low=0, high=None):\n",
    "    if high is None:\n",
    "        high = len(nums) - 1\n",
    "    \n",
    "    if low < high:\n",
    "        # Get pivot\n",
    "        pivot = nums[random.randint(low, high)]\n",
    "        # Get 2 pointers: i finds greater than pivot, j finds smaller than pivot\n",
    "        i, j = low, high\n",
    "        \n",
    "        # Pivot not sorted\n",
    "        while i <= j:\n",
    "            # Continuously update both pointers until find right number to swap\n",
    "            while nums[i] < pivot:\n",
    "                i += 1\n",
    "            while nums[j] > pivot:\n",
    "                j -= 1\n",
    "                \n",
    "            # If pivot still not sorted\n",
    "            if i <= j:\n",
    "                nums[i], nums[j] = nums[j], nums[i]\n",
    "                i += 1\n",
    "                j -= 1\n",
    "                \n",
    "        # Recursive Partition\n",
    "        quick_sort_basic(nums, low, j)\n",
    "        quick_sort_basic(nums, i, high)\n",
    "    \n",
    "    return nums # for easy testing\n",
    "        \n",
    "## Test\n",
    "from sort_backup.sort_tests import sort_Test\n",
    "sorts = {\n",
    "    \"quick_sort_3_way\": quick_sort_3_way, \n",
    "    \"quick_sort_basic\": quick_sort_basic\n",
    "}; sort_Test(sorts)"
   ]
  }
 ],
 "metadata": {
  "kernelspec": {
   "display_name": "Python 3 (ipykernel)",
   "language": "python",
   "name": "python3"
  },
  "language_info": {
   "codemirror_mode": {
    "name": "ipython",
    "version": 3
   },
   "file_extension": ".py",
   "mimetype": "text/x-python",
   "name": "python",
   "nbconvert_exporter": "python",
   "pygments_lexer": "ipython3",
   "version": "3.11.3"
  },
  "vscode": {
   "interpreter": {
    "hash": "46b700ac85ed5dea8e0f0f4f7b5edff0daa712c889bb9683ffc228ad5e7bb0d0"
   }
  },
  "widgets": {
   "application/vnd.jupyter.widget-state+json": {
    "state": {},
    "version_major": 2,
    "version_minor": 0
   }
  }
 },
 "nbformat": 4,
 "nbformat_minor": 5
}
