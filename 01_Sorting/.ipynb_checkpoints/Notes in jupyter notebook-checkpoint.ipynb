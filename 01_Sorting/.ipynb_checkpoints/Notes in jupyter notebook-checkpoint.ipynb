{
 "cells": [
  {
   "cell_type": "markdown",
   "id": "e1aad09e",
   "metadata": {},
   "source": [
    "## The below sorts are included:\n",
    "- Bubble sort\n",
    "- Insertion sort\n",
    "- Selection sort -> `Not in Syllabus`\n",
    "- Merge sort\n",
    "- Quick sort -> `Not In-place version is IN SYLLABUS. In-place version is not in syllabus`"
   ]
  },
  {
   "cell_type": "markdown",
   "id": "9f9bfcb5",
   "metadata": {},
   "source": [
    "`NOTE: `\n",
    "##### In-place sorts do not need to return the list as it is in-place. Although generally no issues if you do, it is more of a redundancy.\n",
    "`Disclaimer:`\n",
    "##### The sample test is for functions in other python files, not jupyter notebook. You can use other applications (Notepad ++, IDLE,...) to open them. "
   ]
  },
  {
   "cell_type": "code",
   "execution_count": null,
   "id": "f7c705f8",
   "metadata": {},
   "outputs": [],
   "source": [
    "\"\"\"\n",
    "BUBBLE SORT\n",
    "    - In-Place Sort\n",
    "    - Loop per row, Loop per swap (Do from the swap first)\n",
    "\n",
    "    Method 1\n",
    "      - min_range = len(lst) - 1\n",
    "      - for j in range(min_range)\n",
    "          - for i in range(min_range - j)\n",
    "          ... -j => remove the swapped pieces every row loop after the 1st one\n",
    "      \n",
    "    Method 2\n",
    "      - for unsorted in range(len(lst) - 1, 0, -1)\n",
    "          - for i in range(unsorted)\n",
    "\n",
    "Time Complexity\n",
    "    - Worst: O(n^2)\n",
    "    - Average: θ(n^2)\n",
    "    - Best: Ω(n)\n",
    "\"\"\""
   ]
  },
  {
   "cell_type": "code",
   "execution_count": 80,
   "id": "039bbb2d",
   "metadata": {},
   "outputs": [
    {
     "name": "stdout",
     "output_type": "stream",
     "text": [
      "randlst and copies: [84, 20, 50, 16, 86, 25, 80, 28, 15, 11]\n",
      "bubblesort_1: [11, 15, 16, 20, 25, 28, 50, 80, 84, 86]\n",
      "bubblesort_2: [11, 15, 16, 20, 25, 28, 50, 80, 84, 86]\n",
      "in-built sort: [11, 15, 16, 20, 25, 28, 50, 80, 84, 86]\n",
      "\n",
      "bubblesort_1: True\n",
      "bubblesort_2: True\n"
     ]
    }
   ],
   "source": [
    "# Iterative Version\n",
    "def bubblesort_1(lst):\n",
    "    pass\n",
    "\n",
    "def bubblesort_2(lst):\n",
    "    pass\n",
    "            \n",
    "## SAMPLE RESULT\n",
    "from sort_testers import bubblesort_tester\n",
    "bubblesort_tester()"
   ]
  },
  {
   "cell_type": "code",
   "execution_count": null,
   "id": "98efc9a6",
   "metadata": {},
   "outputs": [],
   "source": [
    "\"\"\"\n",
    "INSERTION SORT\n",
    "    - In-place Sort\n",
    "    - The 1st ele is sorted by default\n",
    "    - Compare the rest of the eles with the sorted grp:\n",
    "      ... continuously swap backwards if:\n",
    "          ... the ele is not at first position \n",
    "          AND\n",
    "          ... the ele is smaller than the previous ele\n",
    "    - Check for the rest of the numbers 2nd to last\n",
    "\n",
    "Time Complexity\n",
    "    - Worst: O(n^2)\n",
    "    - Average: θ(n^2)\n",
    "    - Best: Ω(n)\n",
    "\"\"\""
   ]
  },
  {
   "cell_type": "code",
   "execution_count": 24,
   "id": "b523dfe2",
   "metadata": {},
   "outputs": [
    {
     "name": "stdout",
     "output_type": "stream",
     "text": [
      "randlst and copies: [64, 87, 73, 63, 42, 41, 20, 86, 20, 24]\n",
      "insertion_sort: [20, 20, 24, 41, 42, 63, 64, 73, 86, 87]\n",
      "in-built sort: [20, 20, 24, 41, 42, 63, 64, 73, 86, 87]\n",
      "\n",
      "insertion_sort: True\n"
     ]
    }
   ],
   "source": [
    "def insertion_sort(lst):\n",
    "    pass\n",
    "\n",
    "## SAMPLE RESULT\n",
    "from sort_testers import insertion_sort_tester\n",
    "insertion_sort_tester()"
   ]
  },
  {
   "cell_type": "code",
   "execution_count": null,
   "id": "20ae3054",
   "metadata": {},
   "outputs": [],
   "source": [
    "\"\"\"\n",
    "SELECTION SORT\n",
    "    - In-Place Sort\n",
    "\n",
    "    Variables:\n",
    "    - unsorted_from -> pointer to see which position it is unsorted from\n",
    "    - least_at -> pointer to the smallest number IN THE UNSORTED PORTION\n",
    "\n",
    "    # Method 1\n",
    "        - Loop the whole thing until 2nd last number (unsorted_from)\n",
    "        - Find smallest number within the unsorted portion\n",
    "        - Swap smallest num with num at unsorted_from\n",
    "            - (Optional) Check if it is alr sorted\n",
    "\n",
    "    # Method 2 \n",
    "        - Loop the whole thing until 2nd last number (unsorted_from)\n",
    "        - find min number\n",
    "        - find the index of the min number\n",
    "        - Swap smallest num with num at unsorted_from\n",
    "            - A bit tricky here, the conventional way wont work\n",
    "\n",
    "TIME COMPLEXITY\n",
    "    - Worst: O(n^2)\n",
    "    - Average: θ(n^2)\n",
    "    - Best: Ω(n^2)\n",
    "\"\"\""
   ]
  },
  {
   "cell_type": "code",
   "execution_count": 33,
   "id": "75b34c7e",
   "metadata": {
    "scrolled": true
   },
   "outputs": [
    {
     "name": "stdout",
     "output_type": "stream",
     "text": [
      "randlst and copies: [80, 83, 72, 71, 11, 17, 22, 14, 58, 75]\n",
      "selection_sort_1: [11, 14, 17, 22, 58, 71, 72, 75, 80, 83]\n",
      "selection_sort_2: [11, 14, 17, 22, 58, 71, 72, 75, 80, 83]\n",
      "in-built sort: [11, 14, 17, 22, 58, 71, 72, 75, 80, 83]\n",
      "\n",
      "selection_sort_1: True\n",
      "selection_sort_2: True\n"
     ]
    }
   ],
   "source": [
    "def selection_sort_1(lst):\n",
    "    pass\n",
    "            \n",
    "def selection_sort_2(lst):\n",
    "    pass\n",
    "\n",
    "## SAMPLE RESULT\n",
    "from sort_testers import selection_sort_tester\n",
    "selection_sort_tester()"
   ]
  },
  {
   "cell_type": "code",
   "execution_count": null,
   "id": "73fb6c45",
   "metadata": {},
   "outputs": [],
   "source": [
    "\"\"\" \n",
    "MERGE SORT\n",
    "    - Not In-Place\n",
    "\n",
    "    - Merge sort is divide and conquer\n",
    "      ...partition first \n",
    "      ...then sort the things by doing:\n",
    "         ...compare both lists and sort\n",
    "         ...clean up the unsorted stuff (which is already sorted due to complement sorting)\n",
    "\n",
    "    - Two functions are recommended for this:\n",
    "      ...merge_sort() for recursive partition which calls...\n",
    "      ...merge() for sorting\n",
    "    - A singular function can also work\n",
    "\n",
    "    - Return the list outside of the recursive loop\n",
    "\n",
    "TIME COMPLEXITY\n",
    "    - Worst: O(nlog(n))\n",
    "    - Average: θ(nlog(n))\n",
    "    - Best: Ω(nlog(n))\n",
    "\"\"\""
   ]
  },
  {
   "cell_type": "code",
   "execution_count": 43,
   "id": "e04149a5",
   "metadata": {},
   "outputs": [
    {
     "name": "stdout",
     "output_type": "stream",
     "text": [
      "randlst: [67, 18, 71, 25, 67, 85, 49, 39, 15, 83]\n",
      "mergesort_1: [15, 18, 25, 39, 49, 67, 67, 71, 83, 85]\n",
      "mergesort_2: [15, 18, 25, 39, 49, 67, 67, 71, 83, 85]\n",
      "in-built sort: [15, 18, 25, 39, 49, 67, 67, 71, 83, 85]\n",
      "\n",
      "mergesort_1: True\n",
      "mergesort_2: True\n"
     ]
    }
   ],
   "source": [
    "# Method 1: Two separate functions (Partitioning and Sorting)\n",
    "def mergesort_1(lst): # Recursive Partitioning\n",
    "    pass\n",
    "\n",
    "def merge(left, right): # Sorting (Combining)\n",
    "    pass\n",
    "\n",
    "# Method 2: One singular function for both partitioning and sorting\n",
    "def mergesort_2(lst):\n",
    "    pass\n",
    "\n",
    "## SAMPLE RESULT\n",
    "from sort_testers import mergesort_tester\n",
    "mergesort_tester()"
   ]
  },
  {
   "cell_type": "code",
   "execution_count": null,
   "id": "60e0d701",
   "metadata": {},
   "outputs": [],
   "source": [
    "\"\"\" \n",
    "QUICKSORT\n",
    "    - Out-of-place generally\n",
    "    - Picking pivots (elements) matters if the size of sample is large, here are the choices:\n",
    "      ...first/last (for convenience)\n",
    "      ...median (theoretically best, difficult and expensive practically for large sample sizes)\n",
    "      ...random (practically best for large sample sizes, it generally approx the median)\n",
    "\n",
    "    Out-of-place:\n",
    "        - Define 3 lists: less_than_pivot, equal_to_pivot, greater_than_pivot\n",
    "        - Base case: if len(lst) <= 1:...return lst\n",
    "        - find pivot, sort num into respective lists by comparing with pivot\n",
    "        - recursive sorting\n",
    "\n",
    "    In-place:\n",
    "        - Base case: start < end\n",
    "        - Have i and j, \n",
    "          ...i => find greater_than_pivot (start to pivot)\n",
    "          ...j => find less_than_pivot (end to pivot)\n",
    "        - Find a pivot\n",
    "        - Loop ends once i > j \n",
    "        - Sort as long i <= j\n",
    "\n",
    "        - Remember this is recursive, so there is a recursive function at the end\n",
    "\n",
    "TIME COMPLEXITY\n",
    "    - Worst: O(n^2)\n",
    "    - Average: θ(n log(n))\n",
    "    - Best: Ω(n log(n))\n",
    "\"\"\""
   ]
  },
  {
   "cell_type": "code",
   "execution_count": 51,
   "id": "53634696",
   "metadata": {
    "scrolled": true
   },
   "outputs": [
    {
     "name": "stdout",
     "output_type": "stream",
     "text": [
      "randlst: [75, 15, 75, 63, 78, 33, 26, 95, 29, 31]\n",
      "quicksort_nip: [15, 26, 29, 31, 33, 63, 75, 75, 78, 95]\n",
      "quicksort_ip: [15, 26, 29, 31, 33, 63, 75, 75, 78, 95]\n",
      "in-built sort: [15, 26, 29, 31, 33, 63, 75, 75, 78, 95]\n",
      "\n",
      "quicksort_nip: True\n",
      "quicksort_ip: True\n"
     ]
    }
   ],
   "source": [
    "# QuickSort \n",
    "\n",
    "# Method 1: Out-of-place\n",
    "def quicksort_nip(lst):\n",
    "    pass\n",
    "\n",
    "# Method 2: In-Place\n",
    "def quicksort_ip(lst, start, end):\n",
    "    pass\n",
    "\n",
    "## SAMPLE RESULT\n",
    "from sort_testers import quicksort_tester\n",
    "quicksort_tester()"
   ]
  }
 ],
 "metadata": {
  "kernelspec": {
   "display_name": "Python 3",
   "language": "python",
   "name": "python3"
  },
  "language_info": {
   "codemirror_mode": {
    "name": "ipython",
    "version": 3
   },
   "file_extension": ".py",
   "mimetype": "text/x-python",
   "name": "python",
   "nbconvert_exporter": "python",
   "pygments_lexer": "ipython3",
   "version": "3.6.4"
  }
 },
 "nbformat": 4,
 "nbformat_minor": 5
}
