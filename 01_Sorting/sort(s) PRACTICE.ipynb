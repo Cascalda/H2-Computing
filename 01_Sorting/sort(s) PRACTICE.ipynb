{
 "cells": [
  {
   "cell_type": "markdown",
   "id": "e1a6b16f",
   "metadata": {},
   "source": [
    "## Sorts\n",
    "- Bubble\n",
    "- Insertion\n",
    "- Selection (NOT IN SYLLABUS)\n",
    "- Merge\n",
    "- Quick (3-way Quicksort is IN SYLLABUS. Basic Quicksort is not.)\n",
    "\n",
    "## Remarks\n",
    "- Iterative in-place sorting algorithms do not need to use the `return` statement, but for the sake of testing, it is recommended to include it.\n",
    "- Only the Big O Notation is tested for Time Complexity.\n"
   ]
  },
  {
   "cell_type": "markdown",
   "id": "7f2370e1",
   "metadata": {},
   "source": [
    "---"
   ]
  },
  {
   "cell_type": "markdown",
   "id": "8911cf6a",
   "metadata": {},
   "source": [
    "## Bubble Sort\n",
    "\n",
    "> **In-Place Sorting Algorithm**\n",
    "\n",
    "A simple sorting algorithm that repeatedly moves the **largest element** to the **end of the list**.\n",
    "\n",
    "### Method\n",
    "\n",
    "- Compare each element with its adjacent element and **swap** them if they are in the wrong order.\n",
    "- Repeat this process for each element until the list is **sorted**.\n",
    "- Optimize the algorithm by **skipping unnecessary comparisons** and stopping early if the list is already sorted.\n",
    "\n",
    "### Time Complexity\n",
    "\n",
    "- Worst-case: **O(n^2)**\n",
    "- Average-case: **θ(n^2)**\n",
    "- Best-case: **Ω(n)**\n"
   ]
  },
  {
   "cell_type": "code",
   "execution_count": 1,
   "id": "039bbb2d",
   "metadata": {
    "scrolled": false
   },
   "outputs": [
    {
     "name": "stdout",
     "output_type": "stream",
     "text": [
      "nums: [70, 58, 41, 56, 34, 71, 82, 99, 88, 77]\n",
      "Valid: [34, 41, 56, 58, 70, 71, 77, 82, 88, 99]\n",
      "\n",
      ">>> bubblesort_1: None | False\n",
      ">>> bubblesort_2: None | False\n",
      ">>> bubblesort_3: None | False\n"
     ]
    }
   ],
   "source": [
    "## Un-optimised\n",
    "def bubblesort_1(nums):\n",
    "    pass\n",
    "\n",
    "def bubblesort_2(nums):\n",
    "    pass\n",
    "\n",
    "## Optimised\n",
    "def bubblesort_3(nums):\n",
    "    pass\n",
    "\n",
    "## Test\n",
    "from sort_backup.sort_tests import sort_Test\n",
    "sorts = {\n",
    "    \"bubblesort_1\": bubblesort_1,\n",
    "    \"bubblesort_2\": bubblesort_2,\n",
    "    \"bubblesort_3\": bubblesort_3\n",
    "}; sort_Test(sorts)"
   ]
  },
  {
   "cell_type": "markdown",
   "id": "c2d07973",
   "metadata": {},
   "source": [
    "---"
   ]
  },
  {
   "cell_type": "markdown",
   "id": "29422300",
   "metadata": {},
   "source": [
    "## Insertion Sort\n",
    "\n",
    "> **In-Place Sorting Algorithm**\n",
    "\n",
    "A simple sorting algorithm that sorts each element by moving it **backwards** until it reaches its **correct position**.\n",
    "\n",
    "### Method\n",
    "\n",
    "- Check each element in the list.\n",
    "- Compare the **current element** with the **previous element**.\n",
    "- If the **current element** is smaller than the **previous element**, continuously **shift** the **previous element** backwards until the correct position is found.\n",
    "\n",
    "*[Optimization]*: Instead of **swapping** elements, we can **shift** them.\n",
    "\n",
    "### Time Complexity\n",
    "\n",
    "- Worst-case: **O(n^2)**\n",
    "- Average-case: **θ(n^2)**\n",
    "- Best-case: **Ω(n)**\n"
   ]
  },
  {
   "cell_type": "code",
   "execution_count": 2,
   "id": "b523dfe2",
   "metadata": {},
   "outputs": [
    {
     "name": "stdout",
     "output_type": "stream",
     "text": [
      "nums: [52, 69, 18, 76, 12, 92, 11, 80, 37, 32]\n",
      "Valid: [11, 12, 18, 32, 37, 52, 69, 76, 80, 92]\n",
      "\n",
      ">>> insertion_sort_1: None | False\n",
      ">>> insertion_sort_2: None | False\n"
     ]
    }
   ],
   "source": [
    "## Un-optimised\n",
    "def insertion_sort_1(nums):\n",
    "    pass\n",
    "\n",
    "## Optimised\n",
    "def insertion_sort_2(nums):\n",
    "    pass\n",
    "\n",
    "## Test\n",
    "from sort_backup.sort_tests import sort_Test\n",
    "sorts = {\n",
    "    \"insertion_sort_1\": insertion_sort_1,\n",
    "    \"insertion_sort_2\": insertion_sort_2\n",
    "}; sort_Test(sorts)"
   ]
  },
  {
   "cell_type": "markdown",
   "id": "792438ef",
   "metadata": {},
   "source": [
    "---"
   ]
  },
  {
   "cell_type": "markdown",
   "id": "b2cf9a5a",
   "metadata": {},
   "source": [
    "## Selection Sort\n",
    "\n",
    "> **In-Place Sorting Algorithm**\n",
    "\n",
    "A simple sorting algorithm that efficiently divides the list into a sorted left portion and an unsorted right portion. It repeatedly finds the minimum element from the unsorted portion and places it in the sorted portion.\n",
    "\n",
    "### Method\n",
    "\n",
    "- Iterate through each element of the list.\n",
    "- Find the minimum element within the unsorted portion.\n",
    "- Swap the minimum element with the first element in the unsorted portion.\n",
    "\n",
    "### Time Complexity\n",
    "\n",
    "- Worst-case: **O(n^2)**\n",
    "- Average-case: **θ(n^2)**\n",
    "- Best-case: **Ω(n^2)**"
   ]
  },
  {
   "cell_type": "code",
   "execution_count": 3,
   "id": "75b34c7e",
   "metadata": {
    "scrolled": true
   },
   "outputs": [
    {
     "name": "stdout",
     "output_type": "stream",
     "text": [
      "nums: [10, 44, 66, 82, 22, 20, 35, 17, 78, 73]\n",
      "Valid: [10, 17, 20, 22, 35, 44, 66, 73, 78, 82]\n",
      "\n",
      ">>> selection_sort: None | False\n"
     ]
    }
   ],
   "source": [
    "def selection_sort(nums):\n",
    "    pass\n",
    "\n",
    "## Test\n",
    "from sort_backup.sort_tests import sort_Test\n",
    "sorts = {\n",
    "    \"selection_sort\": selection_sort\n",
    "}; sort_Test(sorts)"
   ]
  },
  {
   "cell_type": "markdown",
   "id": "7a78f052",
   "metadata": {},
   "source": [
    "---"
   ]
  },
  {
   "cell_type": "markdown",
   "id": "36336915",
   "metadata": {},
   "source": [
    "## Merge Sort\n",
    "\n",
    "> **Out-of-Place Sorting Algorithm**\n",
    "\n",
    "Merge sort is a divide and conquer algorithm that efficiently sorts large lists by recursively partitioning it and merging the sorted partitions.\n",
    "\n",
    "### Method\n",
    "\n",
    "1. **Recursive Partitioning**: Divide the list into two halves using the midpoint.\n",
    "2. **Sorting**: Compare the numbers in the sublists and merge them into a new sorted list. Add any remaining numbers when one of the sublists becomes empty.\n",
    "\n",
    "*Important Note: Ensure the midpoint is calculated correctly to avoid an infinite loop.*\n",
    "\n",
    "### Time Complexity\n",
    "\n",
    "- Worst-case: **O(n log(n))**\n",
    "- Average-case: **θ(n log(n))**\n",
    "- Best-case: **Ω(n log(n))**"
   ]
  },
  {
   "cell_type": "code",
   "execution_count": 4,
   "id": "e04149a5",
   "metadata": {},
   "outputs": [
    {
     "name": "stdout",
     "output_type": "stream",
     "text": [
      "nums: [97, 32, 83, 77, 44, 89, 50, 42, 77, 28]\n",
      "Valid: [28, 32, 42, 44, 50, 77, 77, 83, 89, 97]\n",
      "\n",
      ">>> merge_sort_standard: None | False\n",
      ">>> merge_sort_short: None | False\n"
     ]
    }
   ],
   "source": [
    "# Method 1: Better performance for larger lists by using 2 pointers when sorting\n",
    "def merge_sort_standard(nums):\n",
    "    pass\n",
    "\n",
    "# Method 2: Easier to write, but worse performance on larger lists, i.e thousands or more elements\n",
    "def merge_sort_short(nums):\n",
    "    pass\n",
    "\n",
    "## Test\n",
    "from sort_backup.sort_tests import sort_Test\n",
    "sorts = {\n",
    "    \"merge_sort_standard\": merge_sort_standard,\n",
    "    \"merge_sort_short\": merge_sort_short\n",
    "}; sort_Test(sorts)"
   ]
  },
  {
   "cell_type": "markdown",
   "id": "17f4328a",
   "metadata": {},
   "source": [
    "---"
   ]
  },
  {
   "cell_type": "markdown",
   "id": "0d5521ce",
   "metadata": {},
   "source": [
    "## Quick Sort\n",
    "\n",
    "> **In-Place Sorting Algorithm**\n",
    "\n",
    "Quick Sort is a divide and conquer algorithm that involves sorting and recursive partitioning.\n",
    "\n",
    "- **Sorting:**\n",
    "    - Find the pivot:\n",
    "        - First element (**convenient for small sizes, easiest to code**)\n",
    "        - Median element (**fastest in theory, more complicated to code**)\n",
    "        - Random element (**fastest in real-world, fairly quick to code**)\n",
    "    - Compare each number with the pivot and place it on the correct side.\n",
    "    \n",
    "    \n",
    "- **Recursive Partitioning:**\n",
    "    - Splitting the list by the pivot\n",
    "\n",
    "### Method 1: 3-Way QuickSort\n",
    "- Define three empty lists: `lower`, `greater`, `equal`.\n",
    "- Find the pivot.\n",
    "- Compare each number with the pivot and sort it into the correct list.\n",
    "- Perform recursive partitioning.\n",
    "\n",
    "### Method 2: Basic QuickSort (Not-in-Syllabus)\n",
    "- Base case: `start < end`.\n",
    "- Get the pivot and two pointers, `i` and `j`:\n",
    "    - `i` finds elements greater than the pivot and becomes the next low.\n",
    "    - `j` finds elements smaller than the pivot and becomes the next high.\n",
    "- While the pivot is not sorted, update `i` and `j` accordingly.\n",
    "- Perform recursive partitioning.\n",
    "\n",
    "### Time Complexity\n",
    "- Worst-case: **O(n^2)**\n",
    "- Average-case: **θ(n log(n))**\n",
    "- Best-case: **Ω(n log(n))**\n"
   ]
  },
  {
   "cell_type": "code",
   "execution_count": 5,
   "id": "53634696",
   "metadata": {},
   "outputs": [
    {
     "name": "stdout",
     "output_type": "stream",
     "text": [
      "nums: [45, 62, 17, 14, 16, 67, 80, 80, 28, 87]\n",
      "Valid: [14, 16, 17, 28, 45, 62, 67, 80, 80, 87]\n",
      "\n",
      ">>> quick_sort_3_way: None | False\n",
      ">>> quick_sort_basic: None | False\n"
     ]
    }
   ],
   "source": [
    "# Method 1: 3-way Quicksort\n",
    "def quick_sort_3_way(nums, low=0, high=None):\n",
    "    pass\n",
    "                \n",
    "        \n",
    "# Method 2: Basic Quicksort\n",
    "def quick_sort_basic(nums, low=0, high=None):\n",
    "    pass\n",
    "        \n",
    "## Test\n",
    "from sort_backup.sort_tests import sort_Test\n",
    "sorts = {\n",
    "    \"quick_sort_3_way\": quick_sort_3_way, \n",
    "    \"quick_sort_basic\": quick_sort_basic\n",
    "}; sort_Test(sorts)"
   ]
  }
 ],
 "metadata": {
  "kernelspec": {
   "display_name": "Python 3 (ipykernel)",
   "language": "python",
   "name": "python3"
  },
  "language_info": {
   "codemirror_mode": {
    "name": "ipython",
    "version": 3
   },
   "file_extension": ".py",
   "mimetype": "text/x-python",
   "name": "python",
   "nbconvert_exporter": "python",
   "pygments_lexer": "ipython3",
   "version": "3.11.3"
  },
  "vscode": {
   "interpreter": {
    "hash": "46b700ac85ed5dea8e0f0f4f7b5edff0daa712c889bb9683ffc228ad5e7bb0d0"
   }
  },
  "widgets": {
   "application/vnd.jupyter.widget-state+json": {
    "state": {},
    "version_major": 2,
    "version_minor": 0
   }
  }
 },
 "nbformat": 4,
 "nbformat_minor": 5
}
