{
 "cells": [
  {
   "cell_type": "markdown",
   "id": "e1a6b16f",
   "metadata": {},
   "source": [
    "# Sorts\n",
    "- Bubble Sort\n",
    "- Insertion Sort\n",
    "- Selection Sort (**NOT IN SYLLABUS**)\n",
    "- Mergesort\n",
    "- Quicksort (**Basic Quicksort is NOT IN SYLLABUS**)\n",
    "\n",
    "## Remarks\n",
    "- **Iterative in-place sorting algorithms** do not need to use the `return` statement, but for the sake of testing, it is recommended to include it.\n",
    "- Only the **Big O Notation** is tested for Time Complexity.\n"
   ]
  },
  {
   "cell_type": "markdown",
   "id": "7f2370e1",
   "metadata": {},
   "source": [
    "---"
   ]
  },
  {
   "cell_type": "markdown",
   "id": "8911cf6a",
   "metadata": {},
   "source": [
    "# Bubble Sort\n",
    "\n",
    "> **In-Place Sorting Algorithm**\n",
    "\n",
    "A simple sorting algorithm that repeatedly moves the **largest element** to the **end of the list**.\n",
    "\n",
    "### Method\n",
    "\n",
    "- Compare each element with its adjacent element and **swap** them if they are in the wrong order.\n",
    "- Repeat this process for each element until the list is **sorted**.\n",
    "- Optimize the algorithm by **skipping unnecessary comparisons** and stopping early if the list is already sorted.\n",
    "\n",
    "### Time Complexity\n",
    "\n",
    "- Worst-case: **O(n^2)**\n",
    "- Average-case: **θ(n^2)**\n",
    "- Best-case: **Ω(n)**\n"
   ]
  },
  {
   "cell_type": "markdown",
   "id": "c2d07973",
   "metadata": {},
   "source": [
    "---"
   ]
  },
  {
   "cell_type": "markdown",
   "id": "29422300",
   "metadata": {},
   "source": [
    "# Insertion Sort\n",
    "\n",
    "> **In-Place Sorting Algorithm**\n",
    "\n",
    "A simple sorting algorithm that sorts each element by moving it **backwards** until it reaches its **correct position**.\n",
    "\n",
    "### Method\n",
    "\n",
    "- Check each element in the list.\n",
    "- Compare the **current element** with the **previous element**.\n",
    "- If the **current element** is smaller than the **previous element**, continuously **shift** the **previous element** backwards until the correct position is found.\n",
    "\n",
    "*[Optimization]*: Instead of **swapping** elements, we can **shift** them.\n",
    "\n",
    "### Time Complexity\n",
    "\n",
    "- Worst-case: **O(n^2)**\n",
    "- Average-case: **θ(n^2)**\n",
    "- Best-case: **Ω(n)**\n"
   ]
  },
  {
   "cell_type": "markdown",
   "id": "792438ef",
   "metadata": {},
   "source": [
    "---"
   ]
  },
  {
   "cell_type": "markdown",
   "id": "b2cf9a5a",
   "metadata": {},
   "source": [
    "# Selection Sort\n",
    "\n",
    "> **In-Place Sorting Algorithm**\n",
    "\n",
    "A simple sorting algorithm that efficiently divides the list into a **sorted left portion** and an **unsorted right portion**. It repeatedly finds the **minimum element** from the unsorted portion and **places it in the sorted portion**.\n",
    "\n",
    "### Method\n",
    "\n",
    "- Iterate through each element of the list.\n",
    "- Find the **minimum element** within the unsorted portion.\n",
    "- **Swap** the minimum element with the first element in the unsorted portion, thereby expanding the sorted portion while reducing the unsorted portion\n",
    "\n",
    "### Time Complexity\n",
    "\n",
    "- Worst-case: **O(n^2)**\n",
    "- Average-case: **θ(n^2)**\n",
    "- Best-case: **Ω(n^2)**"
   ]
  },
  {
   "cell_type": "markdown",
   "id": "7a78f052",
   "metadata": {},
   "source": [
    "---"
   ]
  },
  {
   "cell_type": "markdown",
   "id": "36336915",
   "metadata": {},
   "source": [
    "# Merge Sort\n",
    "\n",
    "> **Out-of-Place Sorting Algorithm**\n",
    "\n",
    "Merge sort is a **divide and conquer** algorithm that efficiently sorts large lists by **recursively partitioning** it and **merging** the sorted partitions.\n",
    "\n",
    "### Method\n",
    "\n",
    "- **Recursive Partitioning**\n",
    "    - Divide the list into **two halves** using the **midpoint**.\n",
    "      - *Ensure the midpoint is calculated correctly to avoid an infinite loop.*\n",
    "    \n",
    "   \n",
    "- **Merging**\n",
    "    - Compare the numbers in the sublists and **sort** them into a **new list**.\n",
    "    - When **no more comparisons can be done**, the **new list** will take in the **unsorted numbers** in the **non-empty sublist**.\n",
    "\n",
    "\n",
    "### Time Complexity\n",
    "\n",
    "- Worst-case: **O(n log(n))**\n",
    "- Average-case: **θ(n log(n))**\n",
    "- Best-case: **Ω(n log(n))**"
   ]
  },
  {
   "cell_type": "markdown",
   "id": "1825e643",
   "metadata": {},
   "source": [
    "---"
   ]
  },
  {
   "cell_type": "markdown",
   "id": "0d5521ce",
   "metadata": {},
   "source": [
    "# Quick Sort\n",
    "\n",
    "> **In-Place Sorting Algorithm**\n",
    "\n",
    "Quick Sort is a **divide and conquer** algorithm that involves **sorting** and **recursive partitioning**.\n",
    "\n",
    "\n",
    "## Method\n",
    "\n",
    "- **Sorting**\n",
    "    - Find the pivot:\n",
    "        - First element (**easiest to code, worst performance on large datasets**)\n",
    "        - Median element (**fast, complicated to code**)\n",
    "        - Random element (**fast, easy to code**)\n",
    "        \n",
    "    - Compare each number with the pivot and place it on the correct side.\n",
    "    \n",
    "    \n",
    "- **Recursive Partitioning**\n",
    "    - Splitting the list by the pivot\n",
    "    \n",
    "---\n",
    "\n",
    "### 3-Way Quicksort\n",
    "- Define three empty lists: `lower`, `greater`, `equal`.\n",
    "- Find the pivot.\n",
    "- Compare each number with the pivot and sort it into the correct list.\n",
    "- Perform recursive partitioning.\n",
    "\n",
    "### Basic Quicksort (Not-in-Syllabus)\n",
    "- Base case: `start < end`.\n",
    "- Get the pivot and two pointers, `i` and `j`:\n",
    "    - `i` finds elements greater than the pivot and becomes the next low.\n",
    "    - `j` finds elements smaller than the pivot and becomes the next high.\n",
    "- While the pivot is not sorted, update `i` and `j` accordingly.\n",
    "- Perform recursive partitioning.\n",
    "\n",
    "### Time Complexity\n",
    "- Worst-case: **O(n^2)**\n",
    "- Average-case: **θ(n log(n))**\n",
    "- Best-case: **Ω(n log(n))**\n"
   ]
  }
 ],
 "metadata": {
  "kernelspec": {
   "display_name": "Python 3 (ipykernel)",
   "language": "python",
   "name": "python3"
  },
  "language_info": {
   "codemirror_mode": {
    "name": "ipython",
    "version": 3
   },
   "file_extension": ".py",
   "mimetype": "text/x-python",
   "name": "python",
   "nbconvert_exporter": "python",
   "pygments_lexer": "ipython3",
   "version": "3.11.3"
  },
  "vscode": {
   "interpreter": {
    "hash": "46b700ac85ed5dea8e0f0f4f7b5edff0daa712c889bb9683ffc228ad5e7bb0d0"
   }
  },
  "widgets": {
   "application/vnd.jupyter.widget-state+json": {
    "state": {},
    "version_major": 2,
    "version_minor": 0
   }
  }
 },
 "nbformat": 4,
 "nbformat_minor": 5
}
