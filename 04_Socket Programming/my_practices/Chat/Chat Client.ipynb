{
 "cells": [
  {
   "cell_type": "code",
   "execution_count": 1,
   "id": "a04148d7",
   "metadata": {
    "scrolled": true
   },
   "outputs": [
    {
     "name": "stdout",
     "output_type": "stream",
     "text": [
      "WAITING FOR SERVER...\n",
      "SERVER WROTE: asd\n",
      "\n",
      "INPUT CLIENT: quit!\n",
      "CLIENT DISCONNECTED\n",
      "(--- CHAT CLOSED ---)\n"
     ]
    }
   ],
   "source": [
    "import socket\n",
    "\n",
    "chat_socket = socket.socket()\n",
    "\n",
    "# address = input('Enter IPv4 address of server: ')\n",
    "# port = int(input('Enter port number of server: '))\n",
    "\n",
    "address = \"localhost\"\n",
    "port = 6789\n",
    "\n",
    "chat_socket.connect((address, port))\n",
    "\n",
    "\n",
    "while True:\n",
    "    print('WAITING FOR SERVER...')\n",
    "    \n",
    "    from_server = b''\n",
    "    while b'\\n' not in from_server:\n",
    "        from_server += chat_socket.recv(1024)\n",
    "        \n",
    "    if from_server == b'quit!\\n':\n",
    "        print(\"SERVER DISCONNECTED\")\n",
    "        break\n",
    "        \n",
    "    print('SERVER WROTE: ' + from_server.decode())\n",
    "        \n",
    "    from_client = input('INPUT CLIENT: ').encode()\n",
    "      \n",
    "    if from_client == b'quit!':\n",
    "        print(\"CLIENT DISCONNECTED\")\n",
    "        break\n",
    "    \n",
    "    chat_socket.sendall(from_client + b'\\n')\n",
    "        \n",
    "print(\"(--- CHAT CLOSED ---)\")\n",
    "chat_socket.close()               "
   ]
  },
  {
   "cell_type": "code",
   "execution_count": null,
   "id": "96671d8b",
   "metadata": {},
   "outputs": [
    {
     "name": "stdout",
     "output_type": "stream",
     "text": [
      "Enter IPv4 address of server: localhost\n",
      "Enter port number of server: 6789\n",
      "WAITING FOR SERVER...\n"
     ]
    }
   ],
   "source": [
    "import socket\n",
    "\n",
    "chat_socket = socket.socket()\n",
    "\n",
    "address = input('Enter IPv4 address of server: ')\n",
    "port = int(input('Enter port number of server: '))\n",
    "\n",
    "chat_socket.connect((address, port))\n",
    "while True:\n",
    "    print('WAITING FOR SERVER...')\n",
    "    data = b''\n",
    "    while b'\\n' not in data:\n",
    "        data += chat_socket.recv(1024)\n",
    "    if data == b'quit\\n':\n",
    "        break\n",
    "    print('SERVER WROTE: ' + data.decode())\n",
    "    data = input('INPUT CLIENT: ').encode()\n",
    "    if data == 'quit':\n",
    "        break\n",
    "    chat_socket.sendall(data + b'\\n')\n",
    "print('Server closed')\n",
    "chat_socket.close()"
   ]
  },
  {
   "cell_type": "code",
   "execution_count": null,
   "id": "259f5a22",
   "metadata": {},
   "outputs": [],
   "source": []
  },
  {
   "cell_type": "code",
   "execution_count": null,
   "id": "509ebb68",
   "metadata": {},
   "outputs": [],
   "source": []
  }
 ],
 "metadata": {
  "kernelspec": {
   "display_name": "Python 3",
   "language": "python",
   "name": "python3"
  },
  "language_info": {
   "codemirror_mode": {
    "name": "ipython",
    "version": 3
   },
   "file_extension": ".py",
   "mimetype": "text/x-python",
   "name": "python",
   "nbconvert_exporter": "python",
   "pygments_lexer": "ipython3",
   "version": "3.6.4"
  }
 },
 "nbformat": 4,
 "nbformat_minor": 5
}
