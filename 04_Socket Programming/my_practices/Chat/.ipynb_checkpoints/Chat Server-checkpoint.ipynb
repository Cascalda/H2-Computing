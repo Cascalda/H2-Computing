{
 "cells": [
  {
   "cell_type": "code",
   "execution_count": null,
   "id": "76428f8f",
   "metadata": {},
   "outputs": [
    {
     "name": "stdout",
     "output_type": "stream",
     "text": [
      "INPUT SERVER: asd\n",
      "WAITING FOR CLIENT...\n"
     ]
    }
   ],
   "source": [
    "import socket\n",
    "\n",
    "listen_socket = socket.socket()\n",
    "listen_socket.bind(('localhost', 6789))\n",
    "listen_socket.listen()\n",
    "\n",
    "chat_socket, addr = listen_socket.accept()\n",
    "\n",
    "\n",
    "while True:\n",
    "    from_server = input('INPUT SERVER: ').encode()\n",
    "    chat_socket.sendall(from_server + b'\\n')\n",
    "                        \n",
    "    if from_server == b'quit!':\n",
    "        print(\"SERVER DISCONNECTED\") \n",
    "        break\n",
    "\n",
    "    print('WAITING FOR CLIENT...')\n",
    "        \n",
    "    from_client = b''\n",
    "    \n",
    "    while b'\\n' not in from_client:\n",
    "        from_client += chat_socket.recv(1024)\n",
    "    print('CLIENT WROTE: ' + from_client.decode())\n",
    "    \n",
    "    if from_client == b'quit!\\n':\n",
    "        print(\"CLIENT DISCONNECTED\") \n",
    "        break\n",
    "\n",
    "print(\"(--- CHAT CLOSED ---)\")\n",
    "chat_socket.close()\n",
    "listen_socket.close()"
   ]
  },
  {
   "cell_type": "code",
   "execution_count": null,
   "id": "d914725b",
   "metadata": {},
   "outputs": [],
   "source": [
    "import socket\n",
    "\n",
    "listen_socket = socket.socket()\n",
    "listen_socket.bind(('127.0.0.1', 6789))\n",
    "listen_socket.listen()\n",
    "\n",
    "chat_socket, addr = listen_socket.accept()\n",
    "while True:\n",
    "    data = input('INPUT SERVER: ').encode()\n",
    "    chat_socket.sendall(data + b'\\n')\n",
    "    if data == b'quit':\n",
    "        break\n",
    "    print('WAITING FOR CLIENT...')\n",
    "    data = b''\n",
    "    while b'\\n' not in data:\n",
    "        data += chat_socket.recv(1024)\n",
    "    print('CLIENT WROTE: ' + data.decode())\n",
    "    if data == b'quit\\n':\n",
    "        break\n",
    "print('Client closed')\n",
    "chat_socket.close()\n",
    "listen_socket.close()"
   ]
  }
 ],
 "metadata": {
  "kernelspec": {
   "display_name": "Python 3",
   "language": "python",
   "name": "python3"
  },
  "language_info": {
   "codemirror_mode": {
    "name": "ipython",
    "version": 3
   },
   "file_extension": ".py",
   "mimetype": "text/x-python",
   "name": "python",
   "nbconvert_exporter": "python",
   "pygments_lexer": "ipython3",
   "version": "3.6.4"
  }
 },
 "nbformat": 4,
 "nbformat_minor": 5
}
