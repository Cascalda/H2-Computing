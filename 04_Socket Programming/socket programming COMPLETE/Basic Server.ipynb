{
 "cells": [
  {
   "cell_type": "code",
   "execution_count": 1,
   "id": "6759b98f",
   "metadata": {},
   "outputs": [
    {
     "name": "stdout",
     "output_type": "stream",
     "text": [
      ">>> Waiting for connection from client...\n",
      ">>> Connected to client: \n"
     ]
    },
    {
     "ename": "KeyboardInterrupt",
     "evalue": "",
     "output_type": "error",
     "traceback": [
      "\u001b[1;31m---------------------------------------------------------------------------\u001b[0m",
      "\u001b[1;31mKeyboardInterrupt\u001b[0m                         Traceback (most recent call last)",
      "\u001b[1;32m<ipython-input-1-48b32dfece70>\u001b[0m in \u001b[0;36m<module>\u001b[1;34m\u001b[0m\n\u001b[0;32m     57\u001b[0m \u001b[1;33m\u001b[0m\u001b[0m\n\u001b[0;32m     58\u001b[0m \u001b[1;31m# Whatever functions required\u001b[0m\u001b[1;33m\u001b[0m\u001b[1;33m\u001b[0m\u001b[0m\n\u001b[1;32m---> 59\u001b[1;33m \u001b[0mwhatever_function\u001b[0m\u001b[1;33m(\u001b[0m\u001b[1;33m)\u001b[0m\u001b[1;33m\u001b[0m\u001b[0m\n\u001b[0m\u001b[0;32m     60\u001b[0m \u001b[1;31m#...\u001b[0m\u001b[1;33m\u001b[0m\u001b[1;33m\u001b[0m\u001b[0m\n\u001b[0;32m     61\u001b[0m \u001b[1;33m\u001b[0m\u001b[0m\n",
      "\u001b[1;32m<ipython-input-1-48b32dfece70>\u001b[0m in \u001b[0;36mwhatever_function\u001b[1;34m()\u001b[0m\n\u001b[0;32m     16\u001b[0m \u001b[1;33m\u001b[0m\u001b[0m\n\u001b[0;32m     17\u001b[0m     \u001b[1;31m# start from here -----------------------\u001b[0m\u001b[1;33m\u001b[0m\u001b[1;33m\u001b[0m\u001b[0m\n\u001b[1;32m---> 18\u001b[1;33m     \u001b[0moption\u001b[0m \u001b[1;33m=\u001b[0m \u001b[0mreceive_msg\u001b[0m\u001b[1;33m(\u001b[0m\u001b[0mcommon_socket\u001b[0m\u001b[1;33m)\u001b[0m\u001b[1;33m\u001b[0m\u001b[0m\n\u001b[0m\u001b[0;32m     19\u001b[0m \u001b[1;33m\u001b[0m\u001b[0m\n\u001b[0;32m     20\u001b[0m     \u001b[0mdone\u001b[0m \u001b[1;33m=\u001b[0m \u001b[1;32mFalse\u001b[0m\u001b[1;33m\u001b[0m\u001b[0m\n",
      "\u001b[1;32m<ipython-input-1-48b32dfece70>\u001b[0m in \u001b[0;36mreceive_msg\u001b[1;34m(my_socket)\u001b[0m\n\u001b[0;32m      8\u001b[0m     \u001b[1;32mwhile\u001b[0m \u001b[1;34m\"\\n\"\u001b[0m \u001b[1;32mnot\u001b[0m \u001b[1;32min\u001b[0m \u001b[0mreceived\u001b[0m\u001b[1;33m:\u001b[0m\u001b[1;33m\u001b[0m\u001b[0m\n\u001b[0;32m      9\u001b[0m         \u001b[1;31m# 1024 is the buffer size, which is a small power of 2\u001b[0m\u001b[1;33m\u001b[0m\u001b[1;33m\u001b[0m\u001b[0m\n\u001b[1;32m---> 10\u001b[1;33m         \u001b[0mreceived\u001b[0m \u001b[1;33m+=\u001b[0m \u001b[0mmy_socket\u001b[0m\u001b[1;33m.\u001b[0m\u001b[0mrecv\u001b[0m\u001b[1;33m(\u001b[0m\u001b[1;36m1024\u001b[0m\u001b[1;33m)\u001b[0m\u001b[1;33m.\u001b[0m\u001b[0mdecode\u001b[0m\u001b[1;33m(\u001b[0m\u001b[1;33m)\u001b[0m\u001b[1;33m\u001b[0m\u001b[0m\n\u001b[0m\u001b[0;32m     11\u001b[0m     \u001b[1;32mreturn\u001b[0m \u001b[0mreceived\u001b[0m\u001b[1;33m.\u001b[0m\u001b[0mstrip\u001b[0m\u001b[1;33m(\u001b[0m\u001b[1;34m\"\\n\"\u001b[0m\u001b[1;33m)\u001b[0m\u001b[1;33m\u001b[0m\u001b[0m\n\u001b[0;32m     12\u001b[0m \u001b[1;33m\u001b[0m\u001b[0m\n",
      "\u001b[1;31mKeyboardInterrupt\u001b[0m: "
     ]
    }
   ],
   "source": [
    "\"\"\"This is a general illustration, as such the function do not work as it is\"\"\"\n",
    "\n",
    "## BTW, just rename the variables as required...\n",
    "#...these variables are named to make sense for general purpose\n",
    "# Receiving message function\n",
    "def receive_msg(my_socket):\n",
    "    received = \"\"\n",
    "    while \"\\n\" not in received:\n",
    "        # 1024 is the buffer size, which is a small power of 2\n",
    "        received += my_socket.recv(1024).decode()\n",
    "    return received.strip(\"\\n\")\n",
    "\n",
    "# Whatever function the question want you to have\n",
    "def whatever_function():\n",
    "    pass\n",
    "\n",
    "    # start from here -----------------------\n",
    "    option = receive_msg(common_socket)\n",
    "    \n",
    "    done = False\n",
    "    while not done:\n",
    "        # or you can use endswith when appropriate\n",
    "        if option.startswith(\"something\"):\n",
    "            # ...\n",
    "            msg_to_send = f\"SOMETHING {guess}\\n\"\n",
    "            common_socket.send(msg_to_send.encode())\n",
    "            # ...\n",
    "            pass\n",
    "            \n",
    "        elif option == 2:\n",
    "            # ...\n",
    "            pass\n",
    "        \n",
    "        elif option == 3:\n",
    "            # ...\n",
    "            pass\n",
    "        \n",
    "        else:\n",
    "            # ...\n",
    "            done = True\n",
    "\n",
    "# ---------------------------------------------------------------------------------------------------\n",
    "import socket\n",
    "\n",
    "# Initialise the server, the AF_INET and SOCK_STREAM is default so dont worry\n",
    "server_socket = socket.socket()\n",
    "\n",
    "address = 'localhost' # this is the same as 127.0.0.1, it is computer connecting with itself\n",
    "port = 12345 # whatever the address\n",
    "\n",
    "server_socket.bind((address, port))\n",
    "server_socket.listen()\n",
    "\n",
    "print(\">>> Waiting for connection from client...\")\n",
    "common_socket, address = server_socket.accept()\n",
    "print(\">>> Connected to client: \")\n",
    "\n",
    "# Whatever functions required\n",
    "whatever_function()\n",
    "#...\n",
    "\n",
    "# Close the socket\n",
    "print(\">>> Closing socket...\")\n",
    "common_socket.close()\n",
    "server_socket.close()\n",
    "print(\">>> Socket closed\")"
   ]
  }
 ],
 "metadata": {
  "kernelspec": {
   "display_name": "Python 3",
   "language": "python",
   "name": "python3"
  },
  "language_info": {
   "codemirror_mode": {
    "name": "ipython",
    "version": 3
   },
   "file_extension": ".py",
   "mimetype": "text/x-python",
   "name": "python",
   "nbconvert_exporter": "python",
   "pygments_lexer": "ipython3",
   "version": "3.6.4"
  }
 },
 "nbformat": 4,
 "nbformat_minor": 5
}
