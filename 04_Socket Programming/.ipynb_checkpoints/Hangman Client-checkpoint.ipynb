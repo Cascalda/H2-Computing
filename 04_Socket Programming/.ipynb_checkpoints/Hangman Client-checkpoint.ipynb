{
 "cells": [
  {
   "cell_type": "code",
   "execution_count": 1,
   "id": "a2abbf84",
   "metadata": {
    "scrolled": true
   },
   "outputs": [
    {
     "name": "stdout",
     "output_type": "stream",
     "text": [
      "Waiting to connect to server...\n",
      "Connected to Server\n",
      "__________________________________________________\n",
      "\n",
      "    SELECT AN OPTION:\n",
      "    1. Guess a Letter\n",
      "    2. Guess a Word\n",
      "    3. Quit\n",
      "    \n",
      "Word: \n",
      "START: ?????\n",
      "Please input your option: 3\n"
     ]
    }
   ],
   "source": [
    "import socket\n",
    "\n",
    "game_socket = socket.socket(socket.AF_INET, socket.SOCK_STREAM)\n",
    "print(\"Waiting to connect to server...\")\n",
    "game_socket.connect(('localhost', 12345))\n",
    "print(\"Connected to Server\")\n",
    "\n",
    "def receive_msg(socket):\n",
    "    rx_msg_str = \"\"\n",
    "    while '\\n' not in rx_msg_str:\n",
    "        rx_msg_str += socket.recv(1024).decode()\n",
    "    return rx_msg_str[:-1]\n",
    "    \n",
    "\n",
    "def display_menu():\n",
    "    display = \"\"\"\n",
    "    SELECT AN OPTION:\n",
    "    1. Guess a Letter\n",
    "    2. Guess a Word\n",
    "    3. Quit\n",
    "    \"\"\"\n",
    "    \n",
    "    print(display)\n",
    "\n",
    "def string_generator(repeat_str, repeat_no):\n",
    "    print(repeat_str * repeat_no)\n",
    "        \n",
    "def menu():\n",
    "    string_generator(\"_\", 50)\n",
    "    display_menu()\n",
    "    \n",
    "    done = False\n",
    "    while not done:\n",
    "        print(\"Word: \")\n",
    "        received = receive_msg(game_socket).split(\",\")#list of ('START,', '_no_')\n",
    "        start = received[0] + ': '\n",
    "        len_of_qn = int(received[1])\n",
    "        qn_str = len_of_qn * \"?\"\n",
    "        string = start + qn_str\n",
    "        print(string)\n",
    "\n",
    "        user_option = input(\"Please input your option: \") \n",
    "        if user_option == \"1\":\n",
    "            guessing_letter = input(\"Guess a letter: \")\n",
    "            game_socket.send(b\"GUESS\" + guessing_letter.encode())\n",
    "            \n",
    "        elif user_option == \"2\":\n",
    "            guessing_word = input(\"Guess the word: \")\n",
    "            game_socket.send(b\"HWORD\" + guessing_word.encode())\n",
    "            \n",
    "        elif user_option == \"3\":\n",
    "            game_socket.send(b\"QUIT\")\n",
    "            done = True\n",
    "menu()"
   ]
  },
  {
   "cell_type": "code",
   "execution_count": 12,
   "id": "6b5e6d75",
   "metadata": {},
   "outputs": [
    {
     "name": "stdout",
     "output_type": "stream",
     "text": [
      "__________\n"
     ]
    }
   ],
   "source": [
    "def string_generator(repeat_str, repeat_no):\n",
    "    print(repeat_str * repeat_no)\n",
    "        \n",
    "string_generator(\"_\", 10)     "
   ]
  }
 ],
 "metadata": {
  "kernelspec": {
   "display_name": "Python 3",
   "language": "python",
   "name": "python3"
  },
  "language_info": {
   "codemirror_mode": {
    "name": "ipython",
    "version": 3
   },
   "file_extension": ".py",
   "mimetype": "text/x-python",
   "name": "python",
   "nbconvert_exporter": "python",
   "pygments_lexer": "ipython3",
   "version": "3.6.4"
  }
 },
 "nbformat": 4,
 "nbformat_minor": 5
}
